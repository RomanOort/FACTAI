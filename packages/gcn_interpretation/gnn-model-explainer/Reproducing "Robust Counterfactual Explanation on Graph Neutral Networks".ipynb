{
 "cells": [
  {
   "cell_type": "markdown",
   "id": "executive-antarctica",
   "metadata": {},
   "source": [
    "# Reproducing \"Robust Counterfactual Explanations on Graph Neural Networks\"\n",
    "This notebook represents our reproduction study where this notebook serves as a high-level interface."
   ]
  },
  {
   "cell_type": "markdown",
   "id": "fantastic-longer",
   "metadata": {},
   "source": [
    "## Training\n",
    "In this part we train multiple models on Mutagenicity and MNISTSuperPixel datasets."
   ]
  },
  {
   "cell_type": "markdown",
   "id": "actual-nutrition",
   "metadata": {},
   "source": [
    "### RCExplainer"
   ]
  },
  {
   "cell_type": "code",
   "execution_count": null,
   "id": "reported-possession",
   "metadata": {},
   "outputs": [],
   "source": []
  },
  {
   "cell_type": "markdown",
   "id": "pediatric-india",
   "metadata": {},
   "source": [
    "### RCExplainer NoLDB"
   ]
  },
  {
   "cell_type": "code",
   "execution_count": null,
   "id": "developmental-bedroom",
   "metadata": {},
   "outputs": [],
   "source": []
  },
  {
   "cell_type": "markdown",
   "id": "satisfied-ideal",
   "metadata": {},
   "source": [
    "### PGExplainer"
   ]
  },
  {
   "cell_type": "code",
   "execution_count": null,
   "id": "alert-ground",
   "metadata": {},
   "outputs": [],
   "source": []
  },
  {
   "cell_type": "markdown",
   "id": "foreign-writing",
   "metadata": {},
   "source": [
    "### MNISTSuperPixel"
   ]
  },
  {
   "cell_type": "code",
   "execution_count": null,
   "id": "initial-philadelphia",
   "metadata": {},
   "outputs": [],
   "source": []
  },
  {
   "cell_type": "markdown",
   "id": "french-remove",
   "metadata": {},
   "source": [
    "## Evaluating\n",
    "We evaluate all models over 10 seeds on three different metrics."
   ]
  },
  {
   "cell_type": "markdown",
   "id": "obvious-trouble",
   "metadata": {},
   "source": [
    "### Mutagenicity"
   ]
  },
  {
   "cell_type": "code",
   "execution_count": null,
   "id": "convertible-labor",
   "metadata": {},
   "outputs": [],
   "source": []
  },
  {
   "cell_type": "markdown",
   "id": "hispanic-belle",
   "metadata": {},
   "source": [
    "### MNISTSuperPixel"
   ]
  },
  {
   "cell_type": "code",
   "execution_count": null,
   "id": "selected-seller",
   "metadata": {},
   "outputs": [],
   "source": []
  }
 ],
 "metadata": {
  "kernelspec": {
   "display_name": "Python 3",
   "language": "python",
   "name": "python3"
  },
  "language_info": {
   "codemirror_mode": {
    "name": "ipython",
    "version": 3
   },
   "file_extension": ".py",
   "mimetype": "text/x-python",
   "name": "python",
   "nbconvert_exporter": "python",
   "pygments_lexer": "ipython3",
   "version": "3.8.7"
  }
 },
 "nbformat": 4,
 "nbformat_minor": 5
}
