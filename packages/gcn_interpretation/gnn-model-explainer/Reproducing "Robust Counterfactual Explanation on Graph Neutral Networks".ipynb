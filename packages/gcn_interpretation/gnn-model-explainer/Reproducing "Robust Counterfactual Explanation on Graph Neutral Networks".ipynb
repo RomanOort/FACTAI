{
 "cells": [
  {
   "cell_type": "markdown",
   "metadata": {},
   "source": [
    "# Reproducing \"Robust Counterfactual Explanations on Graph Neural Networks\"\n",
    "This notebook represents our reproduction study where this notebook serves as a high-level interface."
   ]
  },
  {
   "cell_type": "code",
   "execution_count": 1,
   "metadata": {},
   "outputs": [],
   "source": [
    "from explainer_main import main\n",
    "from argparse import ArgumentParser\n",
    "import json\n",
    "import os\n",
    "os.environ[\"WANDB_MODE\"] = \"offline\"  # Use wandb logging in offline mode"
   ]
  },
  {
   "cell_type": "markdown",
   "metadata": {},
   "source": [
    "## Training\n",
    "In this part we train multiple models on Mutagenicity and MNISTSuperPixel datasets."
   ]
  },
  {
   "cell_type": "code",
   "execution_count": 2,
   "metadata": {},
   "outputs": [],
   "source": [
    "SEEDS = [0, 1, 3, 5, 8, 10, 15, 42, 69, 101][:2]  # All seeds during training and evaluating\n",
    "SPARSITIES = [0.8, 1.0]  # Different train/tests splits: 0.8 represents 80/20 split; and 1.0 represents 100/100 split\n",
    "\n",
    "# Create namespace with used hyperparameters\n",
    "parser = ArgumentParser()\n",
    "prog_args = parser.parse_args('')\n",
    "\n",
    "with open('commandline_args.txt', 'r') as f:\n",
    "    prog_args.__dict__ = json.load(f)\n",
    "    \n",
    "    \n",
    "def train(args):\n",
    "    for sparsity in SPARSITIES:\n",
    "        args.train_data_sparsity = sparsity  # Set train/test split for all seeds\n",
    "        for seed in SEEDS:\n",
    "            args.seed = seed  # Set seed for training iteration\n",
    "            main(args)"
   ]
  },
  {
   "cell_type": "markdown",
   "metadata": {},
   "source": [
    "### RCExplainer"
   ]
  },
  {
   "cell_type": "code",
   "execution_count": 3,
   "metadata": {},
   "outputs": [
    {
     "name": "stdout",
     "output_type": "stream",
     "text": [
      "CUDA 1\n",
      "loading model\n",
      "./ckpt/Mutagenicity/Mutagenicity_base_h20_o20.pth.tar\n",
      "=> loading checkpoint './ckpt/Mutagenicity/Mutagenicity_base_h20_o20.pth.tar'\n",
      "Loaded model from ./ckpt/Mutagenicity\n",
      "input dim:  14 ; num classes:  2\n",
      "Method:  base\n",
      "Graph indices for label  0  : \n",
      "No rule file found, extracting a new one.\n"
     ]
    },
    {
     "name": "stderr",
     "output_type": "stream",
     "text": [
      "  0%|          | 2/2000 [00:01<27:09,  1.23it/s]\n"
     ]
    },
    {
     "name": "stdout",
     "output_type": "stream",
     "text": [
      "log dir already exists and will be overwritten\n"
     ]
    },
    {
     "name": "stderr",
     "output_type": "stream",
     "text": [
      "Failed to detect the name of this notebook, you can set it manually with the WANDB_NOTEBOOK_NAME environment variable to enable code saving.\n"
     ]
    },
    {
     "data": {
      "text/html": [
       "W&B syncing is set to `offline` in this directory.  <br/>\n",
       "Run `wandb online` or set WANDB_MODE=online to enable cloud syncing."
      ],
      "text/plain": [
       "<IPython.core.display.HTML object>"
      ]
     },
     "metadata": {},
     "output_type": "display_data"
    },
    {
     "name": "stderr",
     "output_type": "stream",
     "text": [
      "\r",
      "  0%|          | 0/1 [00:00<?, ?it/s]"
     ]
    },
    {
     "name": "stdout",
     "output_type": "stream",
     "text": [
      "Training\n"
     ]
    },
    {
     "name": "stderr",
     "output_type": "stream",
     "text": [
      "100%|██████████| 1/1 [00:28<00:00, 28.99s/it]"
     ]
    },
    {
     "name": "stdout",
     "output_type": "stream",
     "text": [
      "epoch:  0 ; loss:  3.796980857849121\n",
      "Reporting statistics\n",
      "Samples: 1393\n",
      "Edge fidelity prediction change: [0.007178750897343862 0.3137114142139268   0.22972002871500358\n",
      " 0.2024407753050969   0.16295764536970567  0.1249102656137832\n",
      " 0.06963388370423547  0.                   0.                  ]\n",
      " Edge fidelity confidence change: [-6.3789380897486370e-02  2.4413302162099210e-01  1.7219402784934937e-01\n",
      "  1.4559421424632951e-01  1.1295860304048570e-01  8.3428643114346016e-02\n",
      "  3.6888968255651654e-02  7.0485808570352462e-07  0.0000000000000000e+00] for sparsity [0.                 0.5099978587735239 0.7647712698362752\n",
      " 0.8240487540872167 0.8695437790503711 0.9228434396235102\n",
      " 0.9700643117275498 0.9999450406237463 1.                ]\n",
      "Mask density: [0.]\n",
      "Sparsity, 0.0,0.5099978587735239,0.7647712698362752,0.8240487540872167,0.8695437790503711,0.9228434396235102,0.9700643117275498,0.9999450406237463,1.0,\n",
      "Fidelity, -0.06378938089748637,0.2441330216209921,0.17219402784934937,0.1455942142463295,0.1129586030404857,0.08342864311434602,0.036888968255651654,7.048580857035246e-07,0.0,\n",
      "\n",
      "CUDA 1\n",
      "loading model\n",
      "./ckpt/Mutagenicity/Mutagenicity_base_h20_o20.pth.tar\n",
      "=> loading checkpoint './ckpt/Mutagenicity/Mutagenicity_base_h20_o20.pth.tar'\n"
     ]
    },
    {
     "name": "stderr",
     "output_type": "stream",
     "text": [
      "\n"
     ]
    },
    {
     "name": "stdout",
     "output_type": "stream",
     "text": [
      "Loaded model from ./ckpt/Mutagenicity\n",
      "input dim:  14 ; num classes:  2\n",
      "Method:  base\n",
      "Graph indices for label  0  : \n",
      "No rule file found, extracting a new one.\n"
     ]
    },
    {
     "name": "stderr",
     "output_type": "stream",
     "text": [
      "  0%|          | 2/2000 [00:01<26:47,  1.24it/s]\n"
     ]
    },
    {
     "name": "stdout",
     "output_type": "stream",
     "text": [
      "log dir already exists and will be overwritten\n"
     ]
    },
    {
     "data": {
      "text/html": [
       "Finishing last run (ID:3os8xki0) before initializing another..."
      ],
      "text/plain": [
       "<IPython.core.display.HTML object>"
      ]
     },
     "metadata": {},
     "output_type": "display_data"
    },
    {
     "data": {
      "text/html": [
       "<br/>Waiting for W&B process to finish, PID 23667... <strong style=\"color:green\">(success).</strong>"
      ],
      "text/plain": [
       "<IPython.core.display.HTML object>"
      ]
     },
     "metadata": {},
     "output_type": "display_data"
    },
    {
     "data": {
      "text/html": [
       "<style>\n",
       "    table.wandb td:nth-child(1) { padding: 0 10px; text-align: right }\n",
       "    .wandb-row { display: flex; flex-direction: row; flex-wrap: wrap; width: 100% }\n",
       "    .wandb-col { display: flex; flex-direction: column; flex-basis: 100%; flex: 1; padding: 10px; }\n",
       "    </style>\n",
       "<div class=\"wandb-row\"><div class=\"wandb-col\">\n",
       "<h3>Run history:</h3><br/><table class=\"wandb\"><tr><td>epoch</td><td>▁</td></tr><tr><td>flips</td><td>▁</td></tr><tr><td>inv_diff</td><td>▁</td></tr><tr><td>inv_flips</td><td>▁</td></tr><tr><td>loss</td><td>▁</td></tr><tr><td>loss_ep</td><td>▁</td></tr><tr><td>lr</td><td>▁</td></tr><tr><td>pos_diff</td><td>▁</td></tr><tr><td>topk_inv_diff</td><td>▁</td></tr><tr><td>topk_inv_flips</td><td>▁</td></tr><tr><td>variance_epoch</td><td>▁</td></tr></table><br/></div><div class=\"wandb-col\">\n",
       "<h3>Run summary:</h3><br/><table class=\"wandb\"><tr><td>epoch</td><td>0</td></tr><tr><td>flips</td><td>985.0</td></tr><tr><td>inv_diff</td><td>875.69461</td></tr><tr><td>inv_flips</td><td>398.0</td></tr><tr><td>loss</td><td>3.79698</td></tr><tr><td>loss_ep</td><td>750.57593</td></tr><tr><td>lr</td><td>0.001</td></tr><tr><td>pos_diff</td><td>871.30165</td></tr><tr><td>topk_inv_diff</td><td>245.00756</td></tr><tr><td>topk_inv_flips</td><td>1072.0</td></tr><tr><td>variance_epoch</td><td>67.5081</td></tr></table>\n",
       "</div></div>\n",
       "You can sync this run to the cloud by running:<br/>\n",
       "\u001b[33mwandb sync /home/tvorden/tvorden/FACTAI/packages/gcn_interpretation/gnn-model-explainer/wandb/offline-run-20220202_171055-3os8xki0<br/>\n",
       "\u001b[0mFind logs at: <code>./wandb/offline-run-20220202_171055-3os8xki0/logs</code><br/>\n"
      ],
      "text/plain": [
       "<IPython.core.display.HTML object>"
      ]
     },
     "metadata": {},
     "output_type": "display_data"
    },
    {
     "data": {
      "text/html": [
       "Successfully finished last run (ID:3os8xki0). Initializing new run:<br/>"
      ],
      "text/plain": [
       "<IPython.core.display.HTML object>"
      ]
     },
     "metadata": {},
     "output_type": "display_data"
    },
    {
     "data": {
      "text/html": [
       "W&B syncing is set to `offline` in this directory.  <br/>\n",
       "Run `wandb online` or set WANDB_MODE=online to enable cloud syncing."
      ],
      "text/plain": [
       "<IPython.core.display.HTML object>"
      ]
     },
     "metadata": {},
     "output_type": "display_data"
    },
    {
     "name": "stderr",
     "output_type": "stream",
     "text": [
      "\r",
      "  0%|          | 0/1 [00:00<?, ?it/s]"
     ]
    },
    {
     "name": "stdout",
     "output_type": "stream",
     "text": [
      "Training\n"
     ]
    },
    {
     "name": "stderr",
     "output_type": "stream",
     "text": [
      "100%|██████████| 1/1 [00:28<00:00, 28.16s/it]"
     ]
    },
    {
     "name": "stdout",
     "output_type": "stream",
     "text": [
      "epoch:  0 ; loss:  4.275579452514648\n",
      "Reporting statistics\n",
      "Samples: 1393\n",
      "Edge fidelity prediction change: [0.007896625987078248 0.3015075376884422   0.22541277817659727\n",
      " 0.20100502512562815  0.17013639626704954  0.13711414213926776\n",
      " 0.07609475951184494  0.                   0.                  ]\n",
      " Edge fidelity confidence change: [-6.0930204365806276e-02  2.3340775037273948e-01  1.7535323210525924e-01\n",
      "  1.4892916709762294e-01  1.2242058595563556e-01  9.2073819445605248e-02\n",
      "  4.3853389515092885e-02  1.0588326560278548e-04  0.0000000000000000e+00] for sparsity [0.                 0.5104066198537954 0.7650119616073067\n",
      " 0.8242900831957815 0.8691609163808035 0.9231379596945714\n",
      " 0.9699539102758338 0.9999449761411909 1.                ]\n",
      "Mask density: [0.]\n",
      "Sparsity, 0.0,0.5104066198537954,0.7650119616073067,0.8242900831957815,0.8691609163808035,0.9231379596945714,0.9699539102758338,0.9999449761411909,1.0,\n",
      "Fidelity, -0.060930204365806276,0.23340775037273948,0.17535323210525924,0.14892916709762294,0.12242058595563556,0.09207381944560525,0.043853389515092885,0.00010588326560278548,0.0,\n",
      "\n",
      "CUDA 1\n",
      "loading model\n",
      "./ckpt/Mutagenicity/Mutagenicity_base_h20_o20.pth.tar\n",
      "=> loading checkpoint './ckpt/Mutagenicity/Mutagenicity_base_h20_o20.pth.tar'\n"
     ]
    },
    {
     "name": "stderr",
     "output_type": "stream",
     "text": [
      "\n"
     ]
    },
    {
     "name": "stdout",
     "output_type": "stream",
     "text": [
      "Loaded model from ./ckpt/Mutagenicity\n",
      "input dim:  14 ; num classes:  2\n",
      "Method:  base\n",
      "Graph indices for label  0  : \n",
      "No rule file found, extracting a new one.\n"
     ]
    },
    {
     "name": "stderr",
     "output_type": "stream",
     "text": [
      "  0%|          | 2/2000 [00:01<26:19,  1.26it/s]\n"
     ]
    },
    {
     "name": "stdout",
     "output_type": "stream",
     "text": [
      "log dir already exists and will be overwritten\n"
     ]
    },
    {
     "data": {
      "text/html": [
       "Finishing last run (ID:34rjqokl) before initializing another..."
      ],
      "text/plain": [
       "<IPython.core.display.HTML object>"
      ]
     },
     "metadata": {},
     "output_type": "display_data"
    },
    {
     "data": {
      "text/html": [
       "<br/>Waiting for W&B process to finish, PID 23786... <strong style=\"color:green\">(success).</strong>"
      ],
      "text/plain": [
       "<IPython.core.display.HTML object>"
      ]
     },
     "metadata": {},
     "output_type": "display_data"
    },
    {
     "data": {
      "text/html": [
       "<style>\n",
       "    table.wandb td:nth-child(1) { padding: 0 10px; text-align: right }\n",
       "    .wandb-row { display: flex; flex-direction: row; flex-wrap: wrap; width: 100% }\n",
       "    .wandb-col { display: flex; flex-direction: column; flex-basis: 100%; flex: 1; padding: 10px; }\n",
       "    </style>\n",
       "<div class=\"wandb-row\"><div class=\"wandb-col\">\n",
       "<h3>Run history:</h3><br/><table class=\"wandb\"><tr><td>epoch</td><td>▁</td></tr><tr><td>flips</td><td>▁</td></tr><tr><td>inv_diff</td><td>▁</td></tr><tr><td>inv_flips</td><td>▁</td></tr><tr><td>loss</td><td>▁</td></tr><tr><td>loss_ep</td><td>▁</td></tr><tr><td>lr</td><td>▁</td></tr><tr><td>pos_diff</td><td>▁</td></tr><tr><td>topk_inv_diff</td><td>▁</td></tr><tr><td>topk_inv_flips</td><td>▁</td></tr><tr><td>variance_epoch</td><td>▁</td></tr></table><br/></div><div class=\"wandb-col\">\n",
       "<h3>Run summary:</h3><br/><table class=\"wandb\"><tr><td>epoch</td><td>0</td></tr><tr><td>flips</td><td>964.0</td></tr><tr><td>inv_diff</td><td>860.20176</td></tr><tr><td>inv_flips</td><td>416.0</td></tr><tr><td>loss</td><td>4.27558</td></tr><tr><td>loss_ep</td><td>734.74066</td></tr><tr><td>lr</td><td>0.001</td></tr><tr><td>pos_diff</td><td>853.34715</td></tr><tr><td>topk_inv_diff</td><td>252.27748</td></tr><tr><td>topk_inv_flips</td><td>1082.0</td></tr><tr><td>variance_epoch</td><td>68.23408</td></tr></table>\n",
       "</div></div>\n",
       "You can sync this run to the cloud by running:<br/>\n",
       "\u001b[33mwandb sync /home/tvorden/tvorden/FACTAI/packages/gcn_interpretation/gnn-model-explainer/wandb/offline-run-20220202_171134-34rjqokl<br/>\n",
       "\u001b[0mFind logs at: <code>./wandb/offline-run-20220202_171134-34rjqokl/logs</code><br/>\n"
      ],
      "text/plain": [
       "<IPython.core.display.HTML object>"
      ]
     },
     "metadata": {},
     "output_type": "display_data"
    },
    {
     "data": {
      "text/html": [
       "Successfully finished last run (ID:34rjqokl). Initializing new run:<br/>"
      ],
      "text/plain": [
       "<IPython.core.display.HTML object>"
      ]
     },
     "metadata": {},
     "output_type": "display_data"
    },
    {
     "data": {
      "text/html": [
       "W&B syncing is set to `offline` in this directory.  <br/>\n",
       "Run `wandb online` or set WANDB_MODE=online to enable cloud syncing."
      ],
      "text/plain": [
       "<IPython.core.display.HTML object>"
      ]
     },
     "metadata": {},
     "output_type": "display_data"
    },
    {
     "name": "stderr",
     "output_type": "stream",
     "text": [
      "\r",
      "  0%|          | 0/1 [00:00<?, ?it/s]"
     ]
    },
    {
     "name": "stdout",
     "output_type": "stream",
     "text": [
      "Training\n"
     ]
    },
    {
     "name": "stderr",
     "output_type": "stream",
     "text": [
      "100%|██████████| 1/1 [00:36<00:00, 36.11s/it]"
     ]
    },
    {
     "name": "stdout",
     "output_type": "stream",
     "text": [
      "epoch:  0 ; loss:  3.767800807952881\n",
      "Reporting statistics\n",
      "Samples: 1742\n",
      "Edge fidelity prediction change: [0.007462686567164179 0.3071182548794489   0.21871412169919632\n",
      " 0.19804822043628015  0.1796785304247991   0.14580941446613088\n",
      " 0.07003444316877153  0.                   0.                  ]\n",
      " Edge fidelity confidence change: [-6.2634753612919050e-02  2.4137887769260033e-01  1.6991530165469743e-01\n",
      "  1.4846377871956262e-01  1.2699135559708324e-01  9.1126898553834032e-02\n",
      "  3.8032577827521501e-02  2.8009426990688601e-05  0.0000000000000000e+00] for sparsity [0.                 0.5102561030678032 0.7650065542841341\n",
      " 0.8243619546756131 0.8695312275815366 0.9232599955612428\n",
      " 0.970070363767659  0.9999450645340022 1.                ]\n",
      "Mask density: [0.]\n",
      "Sparsity, 0.0,0.5102561030678032,0.7650065542841341,0.8243619546756131,0.8695312275815366,0.9232599955612428,0.970070363767659,0.9999450645340022,1.0,\n",
      "Fidelity, -0.06263475361291905,0.24137887769260033,0.16991530165469743,0.14846377871956262,0.12699135559708324,0.09112689855383403,0.0380325778275215,2.80094269906886e-05,0.0,\n",
      "\n",
      "CUDA 1\n",
      "loading model\n",
      "./ckpt/Mutagenicity/Mutagenicity_base_h20_o20.pth.tar\n",
      "=> loading checkpoint './ckpt/Mutagenicity/Mutagenicity_base_h20_o20.pth.tar'\n"
     ]
    },
    {
     "name": "stderr",
     "output_type": "stream",
     "text": [
      "\n"
     ]
    },
    {
     "name": "stdout",
     "output_type": "stream",
     "text": [
      "Loaded model from ./ckpt/Mutagenicity\n",
      "input dim:  14 ; num classes:  2\n",
      "Method:  base\n",
      "Graph indices for label  0  : \n",
      "No rule file found, extracting a new one.\n"
     ]
    },
    {
     "name": "stderr",
     "output_type": "stream",
     "text": [
      "  0%|          | 2/2000 [00:01<26:41,  1.25it/s]\n"
     ]
    },
    {
     "name": "stdout",
     "output_type": "stream",
     "text": [
      "log dir already exists and will be overwritten\n"
     ]
    },
    {
     "data": {
      "text/html": [
       "Finishing last run (ID:352mt3ih) before initializing another..."
      ],
      "text/plain": [
       "<IPython.core.display.HTML object>"
      ]
     },
     "metadata": {},
     "output_type": "display_data"
    },
    {
     "data": {
      "text/html": [
       "<br/>Waiting for W&B process to finish, PID 23876... <strong style=\"color:green\">(success).</strong>"
      ],
      "text/plain": [
       "<IPython.core.display.HTML object>"
      ]
     },
     "metadata": {},
     "output_type": "display_data"
    },
    {
     "data": {
      "text/html": [
       "<style>\n",
       "    table.wandb td:nth-child(1) { padding: 0 10px; text-align: right }\n",
       "    .wandb-row { display: flex; flex-direction: row; flex-wrap: wrap; width: 100% }\n",
       "    .wandb-col { display: flex; flex-direction: column; flex-basis: 100%; flex: 1; padding: 10px; }\n",
       "    </style>\n",
       "<div class=\"wandb-row\"><div class=\"wandb-col\">\n",
       "<h3>Run history:</h3><br/><table class=\"wandb\"><tr><td>epoch</td><td>▁</td></tr><tr><td>flips</td><td>▁</td></tr><tr><td>inv_diff</td><td>▁</td></tr><tr><td>inv_flips</td><td>▁</td></tr><tr><td>loss</td><td>▁</td></tr><tr><td>loss_ep</td><td>▁</td></tr><tr><td>lr</td><td>▁</td></tr><tr><td>pos_diff</td><td>▁</td></tr><tr><td>topk_inv_diff</td><td>▁</td></tr><tr><td>topk_inv_flips</td><td>▁</td></tr><tr><td>variance_epoch</td><td>▁</td></tr></table><br/></div><div class=\"wandb-col\">\n",
       "<h3>Run summary:</h3><br/><table class=\"wandb\"><tr><td>epoch</td><td>0</td></tr><tr><td>flips</td><td>1200.0</td></tr><tr><td>inv_diff</td><td>1072.49274</td></tr><tr><td>inv_flips</td><td>532.0</td></tr><tr><td>loss</td><td>3.7678</td></tr><tr><td>loss_ep</td><td>540.05255</td></tr><tr><td>lr</td><td>0.001</td></tr><tr><td>pos_diff</td><td>1065.69753</td></tr><tr><td>topk_inv_diff</td><td>302.76024</td></tr><tr><td>topk_inv_flips</td><td>1357.0</td></tr><tr><td>variance_epoch</td><td>84.61066</td></tr></table>\n",
       "</div></div>\n",
       "You can sync this run to the cloud by running:<br/>\n",
       "\u001b[33mwandb sync /home/tvorden/tvorden/FACTAI/packages/gcn_interpretation/gnn-model-explainer/wandb/offline-run-20220202_171215-352mt3ih<br/>\n",
       "\u001b[0mFind logs at: <code>./wandb/offline-run-20220202_171215-352mt3ih/logs</code><br/>\n"
      ],
      "text/plain": [
       "<IPython.core.display.HTML object>"
      ]
     },
     "metadata": {},
     "output_type": "display_data"
    },
    {
     "data": {
      "text/html": [
       "Successfully finished last run (ID:352mt3ih). Initializing new run:<br/>"
      ],
      "text/plain": [
       "<IPython.core.display.HTML object>"
      ]
     },
     "metadata": {},
     "output_type": "display_data"
    },
    {
     "data": {
      "text/html": [
       "W&B syncing is set to `offline` in this directory.  <br/>\n",
       "Run `wandb online` or set WANDB_MODE=online to enable cloud syncing."
      ],
      "text/plain": [
       "<IPython.core.display.HTML object>"
      ]
     },
     "metadata": {},
     "output_type": "display_data"
    },
    {
     "name": "stderr",
     "output_type": "stream",
     "text": [
      "\r",
      "  0%|          | 0/1 [00:00<?, ?it/s]"
     ]
    },
    {
     "name": "stdout",
     "output_type": "stream",
     "text": [
      "Training\n"
     ]
    },
    {
     "name": "stderr",
     "output_type": "stream",
     "text": [
      "100%|██████████| 1/1 [00:35<00:00, 35.95s/it]"
     ]
    },
    {
     "name": "stdout",
     "output_type": "stream",
     "text": [
      "epoch:  0 ; loss:  4.474911212921143\n",
      "Reporting statistics\n",
      "Samples: 1742\n",
      "Edge fidelity prediction change: [0.007462686567164179 0.3140068886337543   0.22388059701492538\n",
      " 0.18312284730195177  0.1624569460390356   0.1285878300803674\n",
      " 0.08323765786452354  0.                   0.                  ]\n",
      " Edge fidelity confidence change: [-6.2634753612919050e-02  2.4951598361288502e-01  1.6944381476611961e-01\n",
      "  1.3395002739232389e-01  1.1463639880910122e-01  8.7587103880642475e-02\n",
      "  4.9482363493242712e-02  6.8185284271853383e-05  0.0000000000000000e+00] for sparsity [0.                 0.5102561030678032 0.7650065542841341\n",
      " 0.8243619546756131 0.8695312275815366 0.9232599955612428\n",
      " 0.970070363767659  0.9999450645340022 1.                ]\n",
      "Mask density: [0.]\n",
      "Sparsity, 0.0,0.5102561030678032,0.7650065542841341,0.8243619546756131,0.8695312275815366,0.9232599955612428,0.970070363767659,0.9999450645340022,1.0,\n",
      "Fidelity, -0.06263475361291905,0.24951598361288502,0.1694438147661196,0.1339500273923239,0.11463639880910122,0.08758710388064248,0.04948236349324271,6.818528427185338e-05,0.0,\n",
      "\n"
     ]
    },
    {
     "name": "stderr",
     "output_type": "stream",
     "text": [
      "\n"
     ]
    }
   ],
   "source": [
    "prog_args.num_epochs = 1\n",
    "prog_args.bmname = \"Mutagenicity\"  # Dataset used for training\n",
    "prog_args.explainer_method = \"rcexplainer\"  # Explainer model to train\n",
    "prog_args.prefix = \"rcexp_mutag\"  # Used for storing models and logging training\n",
    "\n",
    "train(prog_args)"
   ]
  },
  {
   "cell_type": "markdown",
   "metadata": {},
   "source": [
    "### RCExplainer NoLDB"
   ]
  },
  {
   "cell_type": "code",
   "execution_count": 4,
   "metadata": {},
   "outputs": [
    {
     "name": "stdout",
     "output_type": "stream",
     "text": [
      "CUDA 1\n",
      "loading model\n",
      "./ckpt/Mutagenicity/Mutagenicity_base_h20_o20.pth.tar\n",
      "=> loading checkpoint './ckpt/Mutagenicity/Mutagenicity_base_h20_o20.pth.tar'\n",
      "Loaded model from ./ckpt/Mutagenicity\n",
      "input dim:  14 ; num classes:  2\n",
      "Method:  base\n",
      "Graph indices for label  0  : \n",
      "No rule file found, extracting a new one.\n"
     ]
    },
    {
     "name": "stderr",
     "output_type": "stream",
     "text": [
      "  0%|          | 2/2000 [00:01<27:11,  1.22it/s]\n"
     ]
    },
    {
     "name": "stdout",
     "output_type": "stream",
     "text": [
      "log dir already exists and will be overwritten\n"
     ]
    },
    {
     "name": "stderr",
     "output_type": "stream",
     "text": [
      "100%|██████████| 1/1 [00:27<00:00, 27.31s/it]"
     ]
    },
    {
     "name": "stdout",
     "output_type": "stream",
     "text": [
      "epoch:  0 ; loss:  4.697112560272217\n",
      "Reporting statistics\n",
      "Samples: 1393\n",
      "Edge fidelity prediction change: [0.007178750897343862 0.30868628858578606  0.22684852835606603\n",
      " 0.19669777458722182  0.16008614501076812  0.12275664034458005\n",
      " 0.06891600861450108  0.                   0.                  ]\n",
      " Edge fidelity confidence change: [-6.3789380897486370e-02  2.3995692588319389e-01  1.7021925371923810e-01\n",
      "  1.4084205609042269e-01  1.1021960690906385e-01  8.0899513953038460e-02\n",
      "  3.6347527107744020e-02  7.0485808570352462e-07  0.0000000000000000e+00] for sparsity [0.                 0.5099978587735239 0.7647712698362752\n",
      " 0.8240487540872167 0.8695437790503711 0.9228434396235102\n",
      " 0.9700643117275498 0.9999450406237463 1.                ]\n",
      "Mask density: [0.]\n",
      "Sparsity, 0.0,0.5099978587735239,0.7647712698362752,0.8240487540872167,0.8695437790503711,0.9228434396235102,0.9700643117275498,0.9999450406237463,1.0,\n",
      "Fidelity, -0.06378938089748637,0.2399569258831939,0.1702192537192381,0.1408420560904227,0.11021960690906385,0.08089951395303846,0.03634752710774402,7.048580857035246e-07,0.0,\n",
      "\n",
      "CUDA 1\n",
      "loading model\n",
      "./ckpt/Mutagenicity/Mutagenicity_base_h20_o20.pth.tar\n",
      "=> loading checkpoint './ckpt/Mutagenicity/Mutagenicity_base_h20_o20.pth.tar'\n"
     ]
    },
    {
     "name": "stderr",
     "output_type": "stream",
     "text": [
      "\n"
     ]
    },
    {
     "name": "stdout",
     "output_type": "stream",
     "text": [
      "Loaded model from ./ckpt/Mutagenicity\n",
      "input dim:  14 ; num classes:  2\n",
      "Method:  base\n",
      "Graph indices for label  0  : \n",
      "No rule file found, extracting a new one.\n"
     ]
    },
    {
     "name": "stderr",
     "output_type": "stream",
     "text": [
      "  0%|          | 2/2000 [00:01<26:58,  1.23it/s]\n"
     ]
    },
    {
     "name": "stdout",
     "output_type": "stream",
     "text": [
      "log dir already exists and will be overwritten\n"
     ]
    },
    {
     "name": "stderr",
     "output_type": "stream",
     "text": [
      "100%|██████████| 1/1 [00:27<00:00, 27.05s/it]"
     ]
    },
    {
     "name": "stdout",
     "output_type": "stream",
     "text": [
      "epoch:  0 ; loss:  5.3164448738098145\n",
      "Reporting statistics\n",
      "Samples: 1393\n",
      "Edge fidelity prediction change: [0.007896625987078248 0.3022254127781766   0.22469490308686288\n",
      " 0.2024407753050969   0.16941852117731515  0.13926776740847094\n",
      " 0.07537688442211055  0.                   0.                  ]\n",
      " Edge fidelity confidence change: [-6.0930204365806276e-02  2.3452261045350500e-01  1.7557253875239495e-01\n",
      "  1.4915211095453934e-01  1.2226784394015019e-01  9.3110451895986976e-02\n",
      "  4.4089645083140575e-02  1.0588326560278548e-04  0.0000000000000000e+00] for sparsity [0.                 0.5104066198537954 0.7650119616073067\n",
      " 0.8242900831957815 0.8691609163808035 0.9231379596945714\n",
      " 0.9699539102758338 0.9999449761411909 1.                ]\n",
      "Mask density: [0.]\n",
      "Sparsity, 0.0,0.5104066198537954,0.7650119616073067,0.8242900831957815,0.8691609163808035,0.9231379596945714,0.9699539102758338,0.9999449761411909,1.0,\n",
      "Fidelity, -0.060930204365806276,0.234522610453505,0.17557253875239495,0.14915211095453934,0.1222678439401502,0.09311045189598698,0.044089645083140575,0.00010588326560278548,0.0,\n",
      "\n",
      "CUDA 1\n",
      "loading model\n",
      "./ckpt/Mutagenicity/Mutagenicity_base_h20_o20.pth.tar\n",
      "=> loading checkpoint './ckpt/Mutagenicity/Mutagenicity_base_h20_o20.pth.tar'\n"
     ]
    },
    {
     "name": "stderr",
     "output_type": "stream",
     "text": [
      "\n"
     ]
    },
    {
     "name": "stdout",
     "output_type": "stream",
     "text": [
      "Loaded model from ./ckpt/Mutagenicity\n",
      "input dim:  14 ; num classes:  2\n",
      "Method:  base\n",
      "Graph indices for label  0  : \n",
      "No rule file found, extracting a new one.\n"
     ]
    },
    {
     "name": "stderr",
     "output_type": "stream",
     "text": [
      "  0%|          | 2/2000 [00:01<26:22,  1.26it/s]\n"
     ]
    },
    {
     "name": "stdout",
     "output_type": "stream",
     "text": [
      "log dir already exists and will be overwritten\n"
     ]
    },
    {
     "name": "stderr",
     "output_type": "stream",
     "text": [
      "100%|██████████| 1/1 [00:34<00:00, 34.03s/it]"
     ]
    },
    {
     "name": "stdout",
     "output_type": "stream",
     "text": [
      "epoch:  0 ; loss:  4.6866774559021\n",
      "Reporting statistics\n",
      "Samples: 1742\n",
      "Edge fidelity prediction change: [0.007462686567164179 0.30884041331802525  0.21756601607347875\n",
      " 0.19690011481056258  0.182548794489093    0.14695752009184845\n",
      " 0.07003444316877153  0.                   0.                  ]\n",
      " Edge fidelity confidence change: [-6.2634753612919050e-02  2.4183269580729930e-01  1.6970234024675240e-01\n",
      "  1.4963951953243032e-01  1.2757697958075767e-01  9.1874955510709913e-02\n",
      "  3.7334971942529341e-02  2.8009426990688601e-05  0.0000000000000000e+00] for sparsity [0.                 0.5102561030678032 0.7650065542841341\n",
      " 0.8243619546756131 0.8695312275815366 0.9232599955612428\n",
      " 0.970070363767659  0.9999450645340022 1.                ]\n",
      "Mask density: [0.]\n",
      "Sparsity, 0.0,0.5102561030678032,0.7650065542841341,0.8243619546756131,0.8695312275815366,0.9232599955612428,0.970070363767659,0.9999450645340022,1.0,\n",
      "Fidelity, -0.06263475361291905,0.2418326958072993,0.1697023402467524,0.14963951953243032,0.12757697958075767,0.09187495551070991,0.03733497194252934,2.80094269906886e-05,0.0,\n",
      "\n",
      "CUDA 1\n",
      "loading model\n",
      "./ckpt/Mutagenicity/Mutagenicity_base_h20_o20.pth.tar\n",
      "=> loading checkpoint './ckpt/Mutagenicity/Mutagenicity_base_h20_o20.pth.tar'\n"
     ]
    },
    {
     "name": "stderr",
     "output_type": "stream",
     "text": [
      "\n"
     ]
    },
    {
     "name": "stdout",
     "output_type": "stream",
     "text": [
      "Loaded model from ./ckpt/Mutagenicity\n",
      "input dim:  14 ; num classes:  2\n",
      "Method:  base\n",
      "Graph indices for label  0  : \n",
      "No rule file found, extracting a new one.\n"
     ]
    },
    {
     "name": "stderr",
     "output_type": "stream",
     "text": [
      "  0%|          | 2/2000 [00:01<26:20,  1.26it/s]\n"
     ]
    },
    {
     "name": "stdout",
     "output_type": "stream",
     "text": [
      "log dir already exists and will be overwritten\n"
     ]
    },
    {
     "name": "stderr",
     "output_type": "stream",
     "text": [
      "100%|██████████| 1/1 [00:33<00:00, 33.94s/it]"
     ]
    },
    {
     "name": "stdout",
     "output_type": "stream",
     "text": [
      "epoch:  0 ; loss:  202.66009521484375\n",
      "Reporting statistics\n",
      "Samples: 1742\n",
      "Edge fidelity prediction change: [0.007462686567164179 0.30424799081515497  0.22043628013777267\n",
      " 0.17853042479908152  0.15614236509758897  0.12743972445464982\n",
      " 0.08381171067738231  0.                   0.                  ]\n",
      " Edge fidelity confidence change: [-6.2634753612919050e-02  2.4263515255823476e-01  1.6725601380782890e-01\n",
      "  1.2903290314666166e-01  1.0924195839534807e-01  8.5395380033417498e-02\n",
      "  4.9163036279371769e-02  6.8185284271853383e-05  0.0000000000000000e+00] for sparsity [0.                 0.5102561030678032 0.7650065542841341\n",
      " 0.8243619546756131 0.8695312275815366 0.9232599955612428\n",
      " 0.970070363767659  0.9999450645340022 1.                ]\n",
      "Mask density: [0.]\n",
      "Sparsity, 0.0,0.5102561030678032,0.7650065542841341,0.8243619546756131,0.8695312275815366,0.9232599955612428,0.970070363767659,0.9999450645340022,1.0,\n",
      "Fidelity, -0.06263475361291905,0.24263515255823476,0.1672560138078289,0.12903290314666166,0.10924195839534807,0.0853953800334175,0.04916303627937177,6.818528427185338e-05,0.0,\n",
      "\n"
     ]
    },
    {
     "name": "stderr",
     "output_type": "stream",
     "text": [
      "\n"
     ]
    }
   ],
   "source": [
    "prog_args.num_epochs = 1\n",
    "prog_args.bmname = \"Mutagenicity\"  # Dataset used for training\n",
    "prog_args.explainer_method = \"rcexp_noldb\"  # Explainer model to train\n",
    "prog_args.prefix = \"rcexp_noldb_mutag\"  # Used for storing models and logging training\n",
    "\n",
    "train(prog_args)"
   ]
  },
  {
   "cell_type": "markdown",
   "metadata": {},
   "source": [
    "### PGExplainer"
   ]
  },
  {
   "cell_type": "code",
   "execution_count": 5,
   "metadata": {
    "scrolled": false
   },
   "outputs": [
    {
     "name": "stdout",
     "output_type": "stream",
     "text": [
      "CUDA 1\n",
      "loading model\n",
      "./ckpt/Mutagenicity/Mutagenicity_base_h20_o20.pth.tar\n",
      "=> loading checkpoint './ckpt/Mutagenicity/Mutagenicity_base_h20_o20.pth.tar'\n"
     ]
    },
    {
     "name": "stderr",
     "output_type": "stream",
     "text": [
      "\r",
      "  0%|          | 0/1 [00:00<?, ?it/s]"
     ]
    },
    {
     "name": "stdout",
     "output_type": "stream",
     "text": [
      "Loaded model from ./ckpt/Mutagenicity\n",
      "input dim:  14 ; num classes:  2\n",
      "Method:  base\n",
      "Graph indices for label  0  : \n"
     ]
    },
    {
     "name": "stderr",
     "output_type": "stream",
     "text": [
      "100%|██████████| 1/1 [00:24<00:00, 24.90s/it]"
     ]
    },
    {
     "name": "stdout",
     "output_type": "stream",
     "text": [
      "epoch:  0 ; loss:  12432.9990234375\n",
      "Average mask density: 0.5052630085219936\n",
      "Variance:  0.048499137611563575\n",
      "Flips:  984.0\n",
      "pos diff: 0.6237525478037501, k: 8.0, topk inv diff: 0.18041785926760656\n",
      "topk inv Flips:  1061.0\n",
      "Incorrect preds:  137.0\n",
      "Total graphs optimized:  1393\n",
      "Reporting statistics\n",
      "Samples: 1393\n",
      "Edge fidelity prediction change: [0.007178750897343862 0.3065326633165829   0.24623115577889448\n",
      " 0.19956927494615936  0.1773151471643934   0.12275664034458005\n",
      " 0.0624551328068916   0.                   0.                  ]\n",
      " Edge fidelity confidence change: [-0.06378938089748637     0.24016294409624553     0.18346207086678812\n",
      "  0.14826440768368537     0.12889483665187668     0.08353665372662979\n",
      "  0.03545023104054245     0.00030888971115134215  0.                    ] for sparsity [0.                 0.5099978587735239 0.7647712698362752\n",
      " 0.8240487540872167 0.8695437790503711 0.9228434396235102\n",
      " 0.9700643117275498 0.9999450406237463 1.                ]\n",
      "Mask density: [0.]\n",
      "Sparsity, 0.0,0.5099978587735239,0.7647712698362752,0.8240487540872167,0.8695437790503711,0.9228434396235102,0.9700643117275498,0.9999450406237463,1.0,\n",
      "Fidelity, -0.06378938089748637,0.24016294409624553,0.18346207086678812,0.14826440768368537,0.12889483665187668,0.08353665372662979,0.03545023104054245,0.00030888971115134215,0.0,\n",
      "\n",
      "Flips:  984.0\n",
      "Incorrect preds:  137.0\n",
      "CUDA 1\n",
      "loading model\n",
      "./ckpt/Mutagenicity/Mutagenicity_base_h20_o20.pth.tar\n",
      "=> loading checkpoint './ckpt/Mutagenicity/Mutagenicity_base_h20_o20.pth.tar'\n"
     ]
    },
    {
     "name": "stderr",
     "output_type": "stream",
     "text": [
      "\n",
      "  0%|          | 0/1 [00:00<?, ?it/s]"
     ]
    },
    {
     "name": "stdout",
     "output_type": "stream",
     "text": [
      "Loaded model from ./ckpt/Mutagenicity\n",
      "input dim:  14 ; num classes:  2\n",
      "Method:  base\n",
      "Graph indices for label  0  : \n"
     ]
    },
    {
     "name": "stderr",
     "output_type": "stream",
     "text": [
      "100%|██████████| 1/1 [00:25<00:00, 25.17s/it]"
     ]
    },
    {
     "name": "stdout",
     "output_type": "stream",
     "text": [
      "epoch:  0 ; loss:  12252.16015625\n",
      "Average mask density: 0.49780935612366717\n",
      "Variance:  0.04860074195888231\n",
      "Flips:  952.0\n",
      "pos diff: 0.6074617481111881, k: 8.0, topk inv diff: 0.18339253379044052\n",
      "topk inv Flips:  1069.0\n",
      "Incorrect preds:  136.0\n",
      "Total graphs optimized:  1393\n",
      "Reporting statistics\n",
      "Samples: 1393\n",
      "Edge fidelity prediction change: [0.007896625987078248  0.3065326633165829    0.239770279971285\n",
      " 0.19956927494615936   0.1715721464465183    0.12849964106245512\n",
      " 0.06460875807609476   0.0007178750897343862 0.                   ]\n",
      " Edge fidelity confidence change: [-6.0930204365806276e-02  2.5170570062119074e-01  1.8511438859681473e-01\n",
      "  1.4717477243407032e-01  1.2240869701122604e-01  9.0655174216005496e-02\n",
      "  3.6700819005918262e-02  2.4233789471354489e-04  0.0000000000000000e+00] for sparsity [0.                 0.5104066198537954 0.7650119616073067\n",
      " 0.8242900831957815 0.8691609163808035 0.9231379596945714\n",
      " 0.9699539102758338 0.9999449761411909 1.                ]\n",
      "Mask density: [0.]\n",
      "Sparsity, 0.0,0.5104066198537954,0.7650119616073067,0.8242900831957815,0.8691609163808035,0.9231379596945714,0.9699539102758338,0.9999449761411909,1.0,\n",
      "Fidelity, -0.060930204365806276,0.25170570062119074,0.18511438859681473,0.14717477243407032,0.12240869701122604,0.0906551742160055,0.03670081900591826,0.0002423378947135449,0.0,\n",
      "\n",
      "Flips:  952.0\n",
      "Incorrect preds:  136.0\n",
      "CUDA 1\n",
      "loading model\n",
      "./ckpt/Mutagenicity/Mutagenicity_base_h20_o20.pth.tar\n",
      "=> loading checkpoint './ckpt/Mutagenicity/Mutagenicity_base_h20_o20.pth.tar'\n"
     ]
    },
    {
     "name": "stderr",
     "output_type": "stream",
     "text": [
      "\n",
      "  0%|          | 0/1 [00:00<?, ?it/s]"
     ]
    },
    {
     "name": "stdout",
     "output_type": "stream",
     "text": [
      "Loaded model from ./ckpt/Mutagenicity\n",
      "input dim:  14 ; num classes:  2\n",
      "Method:  base\n",
      "Graph indices for label  0  : \n"
     ]
    },
    {
     "name": "stderr",
     "output_type": "stream",
     "text": [
      "100%|██████████| 1/1 [00:31<00:00, 31.38s/it]"
     ]
    },
    {
     "name": "stdout",
     "output_type": "stream",
     "text": [
      "epoch:  0 ; loss:  15292.72265625\n",
      "Average mask density: 0.5063850616267889\n",
      "Variance:  0.04884712621014048\n",
      "Flips:  1209.0\n",
      "pos diff: 0.6124172348755783, k: 8.0, topk inv diff: 0.17907422887060864\n",
      "topk inv Flips:  1340.0\n",
      "Incorrect preds:  177.0\n",
      "Total graphs optimized:  1742\n",
      "Reporting statistics\n",
      "Samples: 1742\n",
      "Edge fidelity prediction change: [0.007462686567164179 0.32606199770378874  0.22043628013777267\n",
      " 0.19460390355912743  0.16016073478760046  0.13260619977037888\n",
      " 0.06659012629161883  0.                   0.                  ]\n",
      " Edge fidelity confidence change: [-6.2634753612919050e-02  2.5270154416971724e-01  1.7379570075756648e-01\n",
      "  1.4443887277462453e-01  1.1493050249723288e-01  8.7802747566034817e-02\n",
      "  3.9616620602208080e-02  7.5611845086554302e-05  0.0000000000000000e+00] for sparsity [0.                 0.5102561030678032 0.7650065542841341\n",
      " 0.8243619546756131 0.8695312275815366 0.9232599955612428\n",
      " 0.970070363767659  0.9999450645340022 1.                ]\n",
      "Mask density: [0.]\n",
      "Sparsity, 0.0,0.5102561030678032,0.7650065542841341,0.8243619546756131,0.8695312275815366,0.9232599955612428,0.970070363767659,0.9999450645340022,1.0,\n",
      "Fidelity, -0.06263475361291905,0.25270154416971724,0.17379570075756648,0.14443887277462453,0.11493050249723288,0.08780274756603482,0.03961662060220808,7.56118450865543e-05,0.0,\n",
      "\n",
      "Flips:  1209.0\n",
      "Incorrect preds:  177.0\n",
      "CUDA 1\n",
      "loading model\n",
      "./ckpt/Mutagenicity/Mutagenicity_base_h20_o20.pth.tar\n",
      "=> loading checkpoint './ckpt/Mutagenicity/Mutagenicity_base_h20_o20.pth.tar'\n"
     ]
    },
    {
     "name": "stderr",
     "output_type": "stream",
     "text": [
      "\n",
      "  0%|          | 0/1 [00:00<?, ?it/s]"
     ]
    },
    {
     "name": "stdout",
     "output_type": "stream",
     "text": [
      "Loaded model from ./ckpt/Mutagenicity\n",
      "input dim:  14 ; num classes:  2\n",
      "Method:  base\n",
      "Graph indices for label  0  : \n"
     ]
    },
    {
     "name": "stderr",
     "output_type": "stream",
     "text": [
      "100%|██████████| 1/1 [00:31<00:00, 31.48s/it]"
     ]
    },
    {
     "name": "stdout",
     "output_type": "stream",
     "text": [
      "epoch:  0 ; loss:  15372.873046875\n",
      "Average mask density: 0.4977272429651875\n",
      "Variance:  0.048586734505886714\n",
      "Flips:  1207.0\n",
      "pos diff: 0.6112991285721004, k: 8.0, topk inv diff: 0.1742133937699102\n",
      "topk inv Flips:  1342.0\n",
      "Incorrect preds:  177.0\n",
      "Total graphs optimized:  1742\n",
      "Reporting statistics\n",
      "Samples: 1742\n",
      "Edge fidelity prediction change: [0.007462686567164179 0.3140068886337543   0.22847301951779564\n",
      " 0.19690011481056258  0.17623421354764637  0.12743972445464982\n",
      " 0.0677382319173364   0.                   0.                  ]\n",
      " Edge fidelity confidence change: [-0.06263475361291905    0.24328384653640533    0.17613719877638306\n",
      "  0.14220971767239948    0.12414500979550533    0.08350253298485183\n",
      "  0.036104943273946144   0.0002672237383648668  0.                   ] for sparsity [0.                 0.5102561030678032 0.7650065542841341\n",
      " 0.8243619546756131 0.8695312275815366 0.9232599955612428\n",
      " 0.970070363767659  0.9999450645340022 1.                ]\n",
      "Mask density: [0.]\n",
      "Sparsity, 0.0,0.5102561030678032,0.7650065542841341,0.8243619546756131,0.8695312275815366,0.9232599955612428,0.970070363767659,0.9999450645340022,1.0,\n",
      "Fidelity, -0.06263475361291905,0.24328384653640533,0.17613719877638306,0.14220971767239948,0.12414500979550533,0.08350253298485183,0.036104943273946144,0.0002672237383648668,0.0,\n",
      "\n",
      "Flips:  1207.0\n",
      "Incorrect preds:  177.0\n"
     ]
    },
    {
     "name": "stderr",
     "output_type": "stream",
     "text": [
      "\n"
     ]
    }
   ],
   "source": [
    "prog_args.num_epochs = 1\n",
    "prog_args.bmname = \"Mutagenicity\"  # Dataset used for training\n",
    "prog_args.explainer_method = \"pgexplainer\"  # Explainer model to train\n",
    "prog_args.prefix = \"pgexplainer_mutag\"  # Used for storing models and logging training\n",
    "\n",
    "train(prog_args)"
   ]
  },
  {
   "cell_type": "markdown",
   "metadata": {},
   "source": [
    "### MNISTSuperPixel"
   ]
  },
  {
   "cell_type": "markdown",
   "metadata": {},
   "source": [
    "#### GNN "
   ]
  },
  {
   "cell_type": "markdown",
   "metadata": {},
   "source": [
    "#### Explainer"
   ]
  },
  {
   "cell_type": "markdown",
   "metadata": {},
   "source": [
    "## Evaluating\n",
    "We evaluate all models trained on Mutagenicity dataset over 10 seeds on three different metrics."
   ]
  },
  {
   "cell_type": "code",
   "execution_count": 6,
   "metadata": {},
   "outputs": [],
   "source": [
    "from get_results import get_all_results\n",
    "results_dir = \"RESULTS\"\n",
    "\n",
    "# Copy all models to saved_models directory for evaluating\n",
    "!rm -r saved_models/*\n",
    "!cp -r ckpt/Mutagenicity/* saved_models"
   ]
  },
  {
   "cell_type": "markdown",
   "metadata": {},
   "source": [
    "### Mutagenicity\n",
    "We evaluate the model for all 10 seeds and two train/test splits.\n",
    "The following cell evaluates all models trained on the Mutagenicity dataset and stores the evaluation results."
   ]
  },
  {
   "cell_type": "code",
   "execution_count": 7,
   "metadata": {
    "scrolled": true
   },
   "outputs": [
    {
     "name": "stdout",
     "output_type": "stream",
     "text": [
      "Evaluating model rcexp\n",
      "Evaluating sparsity 0.8\n",
      "Evaluating seed 0\n",
      "CUDA 1\n",
      "loading model\n",
      "ckpt/Mutagenicity/Mutagenicity_base_h20_o20.pth.tar\n",
      "=> loading checkpoint 'ckpt/Mutagenicity/Mutagenicity_base_h20_o20.pth.tar'\n"
     ]
    },
    {
     "name": "stderr",
     "output_type": "stream",
     "text": [
      "  0%|          | 1/1393 [00:00<03:26,  6.72it/s]"
     ]
    },
    {
     "name": "stdout",
     "output_type": "stream",
     "text": [
      "Loaded model from ckpt/Mutagenicity\n",
      "input dim:  14 ; num classes:  2\n",
      "Method:  base\n",
      "Graph indices for label  0  : \n",
      "loading initial explainer ckpt from :  saved_models/rcexp_mutag_seed_0_sparsity_0.8_logdir_RIGHT_HYPERPARAMS/rcexp_mutagexplainer_Mutagenicity_ep_0_seed_0_sparsity_0.8_RIGHT_HYPERPARMS.pth.tar\n",
      "Using AUC Metric: original\n",
      "Using AUC Metric: original\n",
      "Using AUC Metric: original\n",
      "Using AUC Metric: original\n",
      "Using AUC Metric: original\n",
      "Using AUC Metric: original\n",
      "Using AUC Metric: original\n",
      "sum of params of loaded explainer: -46.60143581032753\n",
      "sum of params of loaded model: -45.76451079547405\n"
     ]
    },
    {
     "name": "stderr",
     "output_type": "stream",
     "text": [
      "100%|██████████| 1393/1393 [03:26<00:00,  6.74it/s]\n"
     ]
    },
    {
     "name": "stdout",
     "output_type": "stream",
     "text": [
      "noise percent: 10.0, inverse noise: False\n",
      "avg removed edges: 0.0\n",
      "pred removed edges: 0.0\n",
      "avg added edges: 0.0\n",
      "avg adj diff: 0.0\n",
      "avg noise diff: 0.0\n",
      "avg pred diff: 0.0\n",
      "skipped iters: 0.0\n",
      "Average mask density: 0.49667556584706585\n",
      "pos diff: [0.6061775641354056 0.                ], inv diff: [0.6475120478624589 0.                ], k: 8.0, topk inv diff: [0.32053519230220956 0.                 ]\n",
      "Variance:  0.0122913820439056\n",
      "Flips:  [1393.    0.]\n",
      "inv Flips:  [1393.    0.]\n",
      "topk inv Flips:  [843.   0.]\n",
      "Incorrect preds:  137.0\n",
      "Total:  [1.393e+03 1.000e+00]\n",
      "Reporting statistics\n",
      "Samples: 1393\n",
      "Edge fidelity prediction change: [0.007178750897343862 0.36109117013639624  0.39267767408470927\n",
      " 0.3445800430725054   0.2979181622397703   0.2404881550610194\n",
      " 0.12419239052404882  0.                   0.                  ]\n",
      " Edge fidelity confidence change: [-6.3789380897486370e-02  2.9952924502298117e-01  3.0905756161782866e-01\n",
      "  2.7540631135504451e-01  2.4281860568158847e-01  1.9430292059171997e-01\n",
      "  1.0578329376582182e-01  1.9246930281891723e-04  0.0000000000000000e+00] for sparsity [0.                 0.5239891919915144 0.7763715130942208\n",
      " 0.8335193166267247 0.8774830250113624 0.9311833790284819\n",
      " 0.977129202948486  0.9999518130463999 1.                ]\n",
      "Mask density: [0.]\n",
      "Sparsity, 0.0,0.5239891919915144,0.7763715130942208,0.8335193166267247,0.8774830250113624,0.9311833790284819,0.977129202948486,0.9999518130463999,1.0,\n",
      "Fidelity, -0.06378938089748637,0.29952924502298117,0.30905756161782866,0.2754063113550445,0.24281860568158847,0.19430292059171997,0.10578329376582182,0.00019246930281891723,0.0,\n",
      "\n",
      "AUC computation:\n",
      " Number of false negatives found: 0\n",
      " Total number of edges in data:   85018\n",
      "Evaluted [1393, 0] samples with noise 0\n",
      "Average adj diff: [0.]\n",
      "Average feat diff: [0.]\n",
      "Average noise diff: [0.]\n",
      "Average mAP: [1.]\n",
      "ROC AUC: 0.8382319540766092\n",
      "nDCG: [1.]\n",
      "Reporting statistics\n",
      "Samples: 0\n",
      "Edge fidelity prediction change: [0. 0. 0. 0. 0. 0. 0. 0. 0.]\n",
      " Edge fidelity confidence change: [0. 0. 0. 0. 0. 0. 0. 0. 0.] for sparsity [0. 0. 0. 0. 0. 0. 0. 0. 0.]\n",
      "Mask density: [0.]\n",
      "Sparsity, 0.0,0.0,0.0,0.0,0.0,0.0,0.0,0.0,0.0,\n",
      "Fidelity, 0.0,0.0,0.0,0.0,0.0,0.0,0.0,0.0,0.0,\n",
      "\n",
      "AUC computation:\n",
      " Number of false negatives found: 0\n",
      " Total number of edges in data:   85018\n",
      "AUC computation:\n",
      " Number of false negatives found: 24\n",
      " Total number of edges in data:   86271\n",
      "Evaluted [1200, 193] samples with noise 5.0\n",
      "Average adj diff: [0.9508333333333333]\n",
      "Average feat diff: [1.4733333333333334]\n",
      "Average noise diff: [1.4733333333333334]\n",
      "Average mAP: [0.8459181801064133]\n",
      "ROC AUC: 0.797225605903889\n",
      "nDCG: [0.9766945904631905]\n",
      "Reporting statistics\n",
      "Samples: 0\n",
      "Edge fidelity prediction change: [0. 0. 0. 0. 0. 0. 0. 0. 0.]\n",
      " Edge fidelity confidence change: [0. 0. 0. 0. 0. 0. 0. 0. 0.] for sparsity [0. 0. 0. 0. 0. 0. 0. 0. 0.]\n",
      "Mask density: [0.]\n",
      "Sparsity, 0.0,0.0,0.0,0.0,0.0,0.0,0.0,0.0,0.0,\n",
      "Fidelity, 0.0,0.0,0.0,0.0,0.0,0.0,0.0,0.0,0.0,\n",
      "\n",
      "AUC computation:\n",
      " Number of false negatives found: 24\n",
      " Total number of edges in data:   86271\n",
      "AUC computation:\n",
      " Number of false negatives found: 56\n",
      " Total number of edges in data:   88152\n",
      "Evaluted [984, 409] samples with noise 10.0\n",
      "Average adj diff: [2.4166666666666665]\n",
      "Average feat diff: [3.9613821138211383]\n",
      "Average noise diff: [3.9613821138211383]\n",
      "Average mAP: [0.6901155839866973]\n",
      "ROC AUC: 0.7400351589682159\n",
      "nDCG: [0.9413609901572951]\n",
      "Reporting statistics\n",
      "Samples: 0\n",
      "Edge fidelity prediction change: [0. 0. 0. 0. 0. 0. 0. 0. 0.]\n",
      " Edge fidelity confidence change: [0. 0. 0. 0. 0. 0. 0. 0. 0.] for sparsity [0. 0. 0. 0. 0. 0. 0. 0. 0.]\n",
      "Mask density: [0.]\n",
      "Sparsity, 0.0,0.0,0.0,0.0,0.0,0.0,0.0,0.0,0.0,\n",
      "Fidelity, 0.0,0.0,0.0,0.0,0.0,0.0,0.0,0.0,0.0,\n",
      "\n",
      "AUC computation:\n",
      " Number of false negatives found: 56\n",
      " Total number of edges in data:   88152\n",
      "AUC computation:\n",
      " Number of false negatives found: 80\n",
      " Total number of edges in data:   89762\n",
      "Evaluted [854, 539] samples with noise 15.0\n",
      "Average adj diff: [3.740046838407494]\n",
      "Average feat diff: [6.786885245901639]\n",
      "Average noise diff: [6.786885245901639]\n",
      "Average mAP: [0.5930809526603651]\n",
      "ROC AUC: 0.7014996647167442\n",
      "nDCG: [0.9217421394975364]\n",
      "Reporting statistics\n",
      "Samples: 0\n",
      "Edge fidelity prediction change: [0. 0. 0. 0. 0. 0. 0. 0. 0.]\n",
      " Edge fidelity confidence change: [0. 0. 0. 0. 0. 0. 0. 0. 0.] for sparsity [0. 0. 0. 0. 0. 0. 0. 0. 0.]\n",
      "Mask density: [0.]\n",
      "Sparsity, 0.0,0.0,0.0,0.0,0.0,0.0,0.0,0.0,0.0,\n",
      "Fidelity, 0.0,0.0,0.0,0.0,0.0,0.0,0.0,0.0,0.0,\n",
      "\n",
      "AUC computation:\n",
      " Number of false negatives found: 80\n",
      " Total number of edges in data:   89762\n",
      "AUC computation:\n",
      " Number of false negatives found: 112\n",
      " Total number of edges in data:   91552\n",
      "Evaluted [730, 663] samples with noise 20.0\n",
      "Average adj diff: [5.021917808219178]\n",
      "Average feat diff: [9.04109589041096]\n",
      "Average noise diff: [9.04109589041096]\n",
      "Average mAP: [0.5236703106572602]\n",
      "ROC AUC: 0.6707963035736719\n",
      "nDCG: [0.9026529365130725]\n",
      "Reporting statistics\n",
      "Samples: 0\n",
      "Edge fidelity prediction change: [0. 0. 0. 0. 0. 0. 0. 0. 0.]\n",
      " Edge fidelity confidence change: [0. 0. 0. 0. 0. 0. 0. 0. 0.] for sparsity [0. 0. 0. 0. 0. 0. 0. 0. 0.]\n",
      "Mask density: [0.]\n",
      "Sparsity, 0.0,0.0,0.0,0.0,0.0,0.0,0.0,0.0,0.0,\n",
      "Fidelity, 0.0,0.0,0.0,0.0,0.0,0.0,0.0,0.0,0.0,\n",
      "\n",
      "AUC computation:\n",
      " Number of false negatives found: 112\n",
      " Total number of edges in data:   91552\n",
      "AUC computation:\n",
      " Number of false negatives found: 128\n",
      " Total number of edges in data:   93446\n",
      "Evaluted [706, 687] samples with noise 25.0\n",
      "Average adj diff: [6.610481586402266]\n",
      "Average feat diff: [12.351274787535411]\n",
      "Average noise diff: [12.351274787535411]\n",
      "Average mAP: [0.46858796489835786]\n",
      "ROC AUC: 0.6465826280939697\n",
      "nDCG: [0.8878444769201139]\n",
      "Reporting statistics\n",
      "Samples: 0\n",
      "Edge fidelity prediction change: [0. 0. 0. 0. 0. 0. 0. 0. 0.]\n",
      " Edge fidelity confidence change: [0. 0. 0. 0. 0. 0. 0. 0. 0.] for sparsity [0. 0. 0. 0. 0. 0. 0. 0. 0.]\n",
      "Mask density: [0.]\n",
      "Sparsity, 0.0,0.0,0.0,0.0,0.0,0.0,0.0,0.0,0.0,\n",
      "Fidelity, 0.0,0.0,0.0,0.0,0.0,0.0,0.0,0.0,0.0,\n",
      "\n",
      "AUC computation:\n",
      " Number of false negatives found: 128\n",
      " Total number of edges in data:   93446\n",
      "AUC computation:\n",
      " Number of false negatives found: 158\n",
      " Total number of edges in data:   95229\n",
      "Evaluted [669, 724] samples with noise 30.0\n",
      "Average adj diff: [8.231689088191331]\n",
      "Average feat diff: [14.840059790732436]\n",
      "Average noise diff: [14.840059790732436]\n",
      "Average mAP: [0.43554833602294546]\n",
      "ROC AUC: 0.6275903264346417\n",
      "nDCG: [0.8777397615541385]\n",
      "Reporting statistics\n",
      "Samples: 0\n",
      "Edge fidelity prediction change: [0. 0. 0. 0. 0. 0. 0. 0. 0.]\n",
      " Edge fidelity confidence change: [0. 0. 0. 0. 0. 0. 0. 0. 0.] for sparsity [0. 0. 0. 0. 0. 0. 0. 0. 0.]\n",
      "Mask density: [0.]\n",
      "Sparsity, 0.0,0.0,0.0,0.0,0.0,0.0,0.0,0.0,0.0,\n",
      "Fidelity, 0.0,0.0,0.0,0.0,0.0,0.0,0.0,0.0,0.0,\n",
      "\n",
      "AUC computation:\n",
      " Number of false negatives found: 158\n",
      " Total number of edges in data:   95229\n",
      "NOISE SUMMARY\n",
      "0, 0, [1393, 0]\n",
      "AUC computation:\n",
      " Number of false negatives found: 0\n",
      " Total number of edges in data:   85018\n",
      "0.05, 0, [1200, 193]\n",
      "AUC computation:\n",
      " Number of false negatives found: 24\n",
      " Total number of edges in data:   86271\n",
      "0.1, 0, [984, 409]\n",
      "AUC computation:\n",
      " Number of false negatives found: 56\n",
      " Total number of edges in data:   88152\n",
      "0.15, 0, [854, 539]\n",
      "AUC computation:\n",
      " Number of false negatives found: 80\n",
      " Total number of edges in data:   89762\n",
      "0.2, 0, [730, 663]\n",
      "AUC computation:\n",
      " Number of false negatives found: 112\n",
      " Total number of edges in data:   91552\n",
      "0.25, 0, [706, 687]\n",
      "AUC computation:\n",
      " Number of false negatives found: 128\n",
      " Total number of edges in data:   93446\n"
     ]
    },
    {
     "name": "stderr",
     "output_type": "stream",
     "text": [
      "\r",
      "  0%|          | 0/349 [00:00<?, ?it/s]"
     ]
    },
    {
     "name": "stdout",
     "output_type": "stream",
     "text": [
      "0.3, 0, [669, 724]\n",
      "AUC computation:\n",
      " Number of false negatives found: 158\n",
      " Total number of edges in data:   95229\n",
      "SUMMARY\n",
      "Sparsity, 0.0000,0.5240,0.7764,0.8335,0.8775,0.9312,0.9771,1.0000,1.0000,\n",
      "Fidelity, -0.0638,0.2995,0.3091,0.2754,0.2428,0.1943,0.1058,0.0002,0.0000,\n",
      "\n",
      "SPARSITY [0.0, 0.5239891919915144, 0.7763715130942208, 0.8335193166267247, 0.8774830250113624, 0.9311833790284819, 0.977129202948486, 0.9999518130463999, 1.0]\n",
      "FIDELITY [-0.06378938089748637, 0.29952924502298117, 0.30905756161782866, 0.2754063113550445, 0.24281860568158847, 0.19430292059171997, 0.10578329376582182, 0.00019246930281891723, 0.0]\n",
      "NOISE VALS [0, 0.05, 0.1, 0.15, 0.2, 0.25, 0.3]\n",
      "ROC AUC [0.8382319540766092, 0.797225605903889, 0.7400351589682159, 0.7014996647167442, 0.6707963035736719, 0.6465826280939697, 0.6275903264346417]\n",
      "=========\n",
      "Average execution time (in seconds) 0.004201116958968689 std: 0.00013931435523176572\n",
      "Using AUC Metric: original\n",
      "Using AUC Metric: original\n",
      "Using AUC Metric: original\n",
      "Using AUC Metric: original\n",
      "Using AUC Metric: original\n",
      "Using AUC Metric: original\n",
      "Using AUC Metric: original\n",
      "sum of params of loaded explainer: -46.60143581032753\n",
      "sum of params of loaded model: -45.76451079547405\n"
     ]
    },
    {
     "name": "stderr",
     "output_type": "stream",
     "text": [
      "100%|██████████| 349/349 [00:51<00:00,  6.82it/s]\n"
     ]
    },
    {
     "name": "stdout",
     "output_type": "stream",
     "text": [
      "noise percent: 10.0, inverse noise: False\n",
      "avg removed edges: 0.0\n",
      "pred removed edges: 0.0\n",
      "avg added edges: 0.0\n",
      "avg adj diff: 0.0\n",
      "avg noise diff: 0.0\n",
      "avg pred diff: 0.0\n",
      "skipped iters: 0.0\n",
      "Average mask density: 0.4953794203370063\n",
      "pos diff: [0.5451799504736433 0.                ], inv diff: [0.5835583418351531 0.                ], k: 8.0, topk inv diff: [0.3155523249959536 0.                ]\n",
      "Variance:  0.012072030187815079\n",
      "Flips:  [349.   0.]\n",
      "inv Flips:  [349.   0.]\n",
      "topk inv Flips:  [214.   0.]\n",
      "Incorrect preds:  40.0\n",
      "Total:  [349.   1.]\n",
      "Reporting statistics\n",
      "Samples: 349\n",
      "Edge fidelity prediction change: [0.008595988538681949  0.35816618911174786   0.3467048710601719\n",
      " 0.335243553008596     0.3037249283667622    0.24355300859598855\n",
      " 0.14326647564469913   0.0028653295128939827 0.                   ]\n",
      " Edge fidelity confidence change: [-0.05802616963755435    0.303583920428951      0.2893034341854489\n",
      "  0.260524190001638      0.23894094191171378    0.18679132895346698\n",
      "  0.11615322321055611    0.0019724037722393573  0.                   ] for sparsity [0.                 0.5331879837123575 0.777737898095631\n",
      " 0.8351300073558076 0.8775279296503368 0.9332752873357866\n",
      " 0.9771564551615783 0.9999451599694937 1.                ]\n",
      "Mask density: [0.]\n",
      "Sparsity, 0.0,0.5331879837123575,0.777737898095631,0.8351300073558076,0.8775279296503368,0.9332752873357866,0.9771564551615783,0.9999451599694937,1.0,\n",
      "Fidelity, -0.05802616963755435,0.303583920428951,0.2893034341854489,0.260524190001638,0.23894094191171378,0.18679132895346698,0.11615322321055611,0.0019724037722393573,0.0,\n",
      "\n",
      "AUC computation:\n",
      " Number of false negatives found: 0\n",
      " Total number of edges in data:   21198\n",
      "Evaluted [349, 0] samples with noise 0\n",
      "Average adj diff: [0.]\n",
      "Average feat diff: [0.]\n",
      "Average noise diff: [0.]\n",
      "Average mAP: [1.]\n",
      "ROC AUC: 0.8295288427696403\n",
      "nDCG: [1.]\n",
      "Reporting statistics\n",
      "Samples: 0\n",
      "Edge fidelity prediction change: [0. 0. 0. 0. 0. 0. 0. 0. 0.]\n",
      " Edge fidelity confidence change: [0. 0. 0. 0. 0. 0. 0. 0. 0.] for sparsity [0. 0. 0. 0. 0. 0. 0. 0. 0.]\n",
      "Mask density: [0.]\n",
      "Sparsity, 0.0,0.0,0.0,0.0,0.0,0.0,0.0,0.0,0.0,\n",
      "Fidelity, 0.0,0.0,0.0,0.0,0.0,0.0,0.0,0.0,0.0,\n",
      "\n",
      "AUC computation:\n",
      " Number of false negatives found: 0\n",
      " Total number of edges in data:   21198\n",
      "AUC computation:\n",
      " Number of false negatives found: 10\n",
      " Total number of edges in data:   21495\n",
      "Evaluted [304, 45] samples with noise 5.0\n",
      "Average adj diff: [0.9802631578947368]\n",
      "Average feat diff: [1.5526315789473684]\n",
      "Average noise diff: [1.5526315789473684]\n",
      "Average mAP: [0.826278884999161]\n",
      "ROC AUC: 0.7867839792825535\n",
      "nDCG: [0.9722200696920681]\n",
      "Reporting statistics\n",
      "Samples: 0\n",
      "Edge fidelity prediction change: [0. 0. 0. 0. 0. 0. 0. 0. 0.]\n",
      " Edge fidelity confidence change: [0. 0. 0. 0. 0. 0. 0. 0. 0.] for sparsity [0. 0. 0. 0. 0. 0. 0. 0. 0.]\n",
      "Mask density: [0.]\n",
      "Sparsity, 0.0,0.0,0.0,0.0,0.0,0.0,0.0,0.0,0.0,\n",
      "Fidelity, 0.0,0.0,0.0,0.0,0.0,0.0,0.0,0.0,0.0,\n",
      "\n",
      "AUC computation:\n",
      " Number of false negatives found: 10\n",
      " Total number of edges in data:   21495\n",
      "AUC computation:\n",
      " Number of false negatives found: 16\n",
      " Total number of edges in data:   21877\n",
      "Evaluted [247, 102] samples with noise 10.0\n",
      "Average adj diff: [2.1983805668016196]\n",
      "Average feat diff: [4.080971659919029]\n",
      "Average noise diff: [4.080971659919029]\n",
      "Average mAP: [0.6790127853805874]\n",
      "ROC AUC: 0.7340773666819078\n",
      "nDCG: [0.9374628712744668]\n",
      "Reporting statistics\n",
      "Samples: 0\n",
      "Edge fidelity prediction change: [0. 0. 0. 0. 0. 0. 0. 0. 0.]\n",
      " Edge fidelity confidence change: [0. 0. 0. 0. 0. 0. 0. 0. 0.] for sparsity [0. 0. 0. 0. 0. 0. 0. 0. 0.]\n",
      "Mask density: [0.]\n",
      "Sparsity, 0.0,0.0,0.0,0.0,0.0,0.0,0.0,0.0,0.0,\n",
      "Fidelity, 0.0,0.0,0.0,0.0,0.0,0.0,0.0,0.0,0.0,\n",
      "\n",
      "AUC computation:\n",
      " Number of false negatives found: 16\n",
      " Total number of edges in data:   21877\n",
      "AUC computation:\n",
      " Number of false negatives found: 18\n",
      " Total number of edges in data:   22416\n",
      "Evaluted [213, 136] samples with noise 15.0\n",
      "Average adj diff: [3.516431924882629]\n",
      "Average feat diff: [5.981220657276995]\n",
      "Average noise diff: [5.981220657276995]\n",
      "Average mAP: [0.5889281840217001]\n",
      "ROC AUC: 0.693519357623672\n",
      "nDCG: [0.9150929484140801]\n",
      "Reporting statistics\n",
      "Samples: 0\n",
      "Edge fidelity prediction change: [0. 0. 0. 0. 0. 0. 0. 0. 0.]\n",
      " Edge fidelity confidence change: [0. 0. 0. 0. 0. 0. 0. 0. 0.] for sparsity [0. 0. 0. 0. 0. 0. 0. 0. 0.]\n",
      "Mask density: [0.]\n",
      "Sparsity, 0.0,0.0,0.0,0.0,0.0,0.0,0.0,0.0,0.0,\n",
      "Fidelity, 0.0,0.0,0.0,0.0,0.0,0.0,0.0,0.0,0.0,\n",
      "\n",
      "AUC computation:\n",
      " Number of false negatives found: 18\n",
      " Total number of edges in data:   22416\n",
      "AUC computation:\n",
      " Number of false negatives found: 36\n",
      " Total number of edges in data:   23036\n",
      "Evaluted [176, 173] samples with noise 20.0\n",
      "Average adj diff: [5.267045454545454]\n",
      "Average feat diff: [8.443181818181818]\n",
      "Average noise diff: [8.443181818181818]\n",
      "Average mAP: [0.5047652188842615]\n",
      "ROC AUC: 0.6547099936782637\n",
      "nDCG: [0.8939429873921483]\n",
      "Reporting statistics\n",
      "Samples: 0\n",
      "Edge fidelity prediction change: [0. 0. 0. 0. 0. 0. 0. 0. 0.]\n",
      " Edge fidelity confidence change: [0. 0. 0. 0. 0. 0. 0. 0. 0.] for sparsity [0. 0. 0. 0. 0. 0. 0. 0. 0.]\n",
      "Mask density: [0.]\n",
      "Sparsity, 0.0,0.0,0.0,0.0,0.0,0.0,0.0,0.0,0.0,\n",
      "Fidelity, 0.0,0.0,0.0,0.0,0.0,0.0,0.0,0.0,0.0,\n",
      "\n",
      "AUC computation:\n",
      " Number of false negatives found: 36\n",
      " Total number of edges in data:   23036\n",
      "AUC computation:\n",
      " Number of false negatives found: 38\n",
      " Total number of edges in data:   23301\n",
      "Evaluted [168, 181] samples with noise 25.0\n",
      "Average adj diff: [6.773809523809524]\n",
      "Average feat diff: [12.333333333333334]\n",
      "Average noise diff: [12.333333333333334]\n",
      "Average mAP: [0.47819673296315796]\n",
      "ROC AUC: 0.6551756220655105\n",
      "nDCG: [0.8871379464266901]\n",
      "Reporting statistics\n",
      "Samples: 0\n",
      "Edge fidelity prediction change: [0. 0. 0. 0. 0. 0. 0. 0. 0.]\n",
      " Edge fidelity confidence change: [0. 0. 0. 0. 0. 0. 0. 0. 0.] for sparsity [0. 0. 0. 0. 0. 0. 0. 0. 0.]\n",
      "Mask density: [0.]\n",
      "Sparsity, 0.0,0.0,0.0,0.0,0.0,0.0,0.0,0.0,0.0,\n",
      "Fidelity, 0.0,0.0,0.0,0.0,0.0,0.0,0.0,0.0,0.0,\n",
      "\n",
      "AUC computation:\n",
      " Number of false negatives found: 38\n",
      " Total number of edges in data:   23301\n",
      "AUC computation:\n",
      " Number of false negatives found: 52\n",
      " Total number of edges in data:   23628\n",
      "Evaluted [170, 179] samples with noise 30.0\n",
      "Average adj diff: [7.758823529411765]\n",
      "Average feat diff: [14.447058823529412]\n",
      "Average noise diff: [14.447058823529412]\n",
      "Average mAP: [0.4417140356404315]\n",
      "ROC AUC: 0.6370342047591262\n",
      "nDCG: [0.8792974675914037]\n",
      "Reporting statistics\n",
      "Samples: 0\n",
      "Edge fidelity prediction change: [0. 0. 0. 0. 0. 0. 0. 0. 0.]\n",
      " Edge fidelity confidence change: [0. 0. 0. 0. 0. 0. 0. 0. 0.] for sparsity [0. 0. 0. 0. 0. 0. 0. 0. 0.]\n",
      "Mask density: [0.]\n",
      "Sparsity, 0.0,0.0,0.0,0.0,0.0,0.0,0.0,0.0,0.0,\n",
      "Fidelity, 0.0,0.0,0.0,0.0,0.0,0.0,0.0,0.0,0.0,\n",
      "\n",
      "AUC computation:\n",
      " Number of false negatives found: 52\n",
      " Total number of edges in data:   23628\n",
      "NOISE SUMMARY\n",
      "0, 0, [349, 0]\n",
      "AUC computation:\n",
      " Number of false negatives found: 0\n",
      " Total number of edges in data:   21198\n",
      "0.05, 0, [304, 45]\n",
      "AUC computation:\n",
      " Number of false negatives found: 10\n",
      " Total number of edges in data:   21495\n",
      "0.1, 0, [247, 102]\n",
      "AUC computation:\n",
      " Number of false negatives found: 16\n",
      " Total number of edges in data:   21877\n",
      "0.15, 0, [213, 136]\n",
      "AUC computation:\n",
      " Number of false negatives found: 18\n",
      " Total number of edges in data:   22416\n",
      "0.2, 0, [176, 173]\n",
      "AUC computation:\n",
      " Number of false negatives found: 36\n",
      " Total number of edges in data:   23036\n",
      "0.25, 0, [168, 181]\n",
      "AUC computation:\n",
      " Number of false negatives found: 38\n",
      " Total number of edges in data:   23301\n",
      "0.3, 0, [170, 179]\n",
      "AUC computation:\n",
      " Number of false negatives found: 52\n",
      " Total number of edges in data:   23628\n",
      "SUMMARY\n",
      "Sparsity, 0.0000,0.5332,0.7777,0.8351,0.8775,0.9333,0.9772,0.9999,1.0000,\n",
      "Fidelity, -0.0580,0.3036,0.2893,0.2605,0.2389,0.1868,0.1162,0.0020,0.0000,\n",
      "\n",
      "SPARSITY [0.0, 0.5331879837123575, 0.777737898095631, 0.8351300073558076, 0.8775279296503368, 0.9332752873357866, 0.9771564551615783, 0.9999451599694937, 1.0]\n",
      "FIDELITY [-0.05802616963755435, 0.303583920428951, 0.2893034341854489, 0.260524190001638, 0.23894094191171378, 0.18679132895346698, 0.11615322321055611, 0.0019724037722393573, 0.0]\n",
      "NOISE VALS [0, 0.05, 0.1, 0.15, 0.2, 0.25, 0.3]\n",
      "ROC AUC [0.8295288427696403, 0.7867839792825535, 0.7340773666819078, 0.693519357623672, 0.6547099936782637, 0.6551756220655105, 0.6370342047591262]\n",
      "=========\n",
      "Average execution time (in seconds) 0.004135007503039516 std: 0.000101197570654314\n"
     ]
    },
    {
     "name": "stdout",
     "output_type": "stream",
     "text": [
      "Evaluating seed 1\n",
      "CUDA 1\n",
      "loading model\n",
      "ckpt/Mutagenicity/Mutagenicity_base_h20_o20.pth.tar\n",
      "=> loading checkpoint 'ckpt/Mutagenicity/Mutagenicity_base_h20_o20.pth.tar'\n"
     ]
    },
    {
     "name": "stderr",
     "output_type": "stream",
     "text": [
      "\r",
      "  0%|          | 0/1393 [00:00<?, ?it/s]"
     ]
    },
    {
     "name": "stdout",
     "output_type": "stream",
     "text": [
      "Loaded model from ckpt/Mutagenicity\n",
      "input dim:  14 ; num classes:  2\n",
      "Method:  base\n",
      "Graph indices for label  0  : \n",
      "loading initial explainer ckpt from :  saved_models/rcexp_mutag_seed_1_sparsity_0.8_logdir_RIGHT_HYPERPARAMS/rcexp_mutagexplainer_Mutagenicity_ep_0_seed_1_sparsity_0.8_RIGHT_HYPERPARMS.pth.tar\n",
      "Using AUC Metric: original\n",
      "Using AUC Metric: original\n",
      "Using AUC Metric: original\n",
      "Using AUC Metric: original\n",
      "Using AUC Metric: original\n",
      "Using AUC Metric: original\n",
      "Using AUC Metric: original\n",
      "sum of params of loaded explainer: -50.26020031794906\n",
      "sum of params of loaded model: -45.76451079547405\n"
     ]
    },
    {
     "name": "stderr",
     "output_type": "stream",
     "text": [
      "100%|██████████| 1393/1393 [03:26<00:00,  6.74it/s]\n"
     ]
    },
    {
     "name": "stdout",
     "output_type": "stream",
     "text": [
      "noise percent: 10.0, inverse noise: False\n",
      "avg removed edges: 0.0\n",
      "pred removed edges: 0.0\n",
      "avg added edges: 0.0\n",
      "avg adj diff: 0.0\n",
      "avg noise diff: 0.0\n",
      "avg pred diff: 0.0\n",
      "skipped iters: 0.0\n",
      "Average mask density: 0.45136093462748106\n",
      "pos diff: [0.5929745619706087 0.                ], inv diff: [0.6455102026548132 0.                ], k: 8.0, topk inv diff: [0.4053354065194031 0.                ]\n",
      "Variance:  0.04863906537251912\n",
      "Flips:  [1393.    0.]\n",
      "inv Flips:  [1393.    0.]\n",
      "topk inv Flips:  [706.   0.]\n",
      "Incorrect preds:  136.0\n",
      "Total:  [1.393e+03 1.000e+00]\n",
      "Reporting statistics\n",
      "Samples: 1393\n",
      "Edge fidelity prediction change: [0.007896625987078248  0.44005743000717873   0.4938980617372577\n",
      " 0.4178033022254128    0.375448671931084     0.2972002871500359\n",
      " 0.15218951902368988   0.0007178750897343862 0.                   ]\n",
      " Edge fidelity confidence change: [-0.060930204365806276   0.370095278449993      0.40962448812438185\n",
      "  0.3448106807209311     0.3066620202220265     0.23137712761043047\n",
      "  0.12960681832701032    0.0008290377950291795  0.                   ] for sparsity [0.                 0.5245464308092428 0.7740269695266236\n",
      " 0.8325785148597329 0.8756843114275772 0.931221563398453\n",
      " 0.9760392962046347 0.9999449761411909 1.                ]\n",
      "Mask density: [0.]\n",
      "Sparsity, 0.0,0.5245464308092428,0.7740269695266236,0.8325785148597329,0.8756843114275772,0.931221563398453,0.9760392962046347,0.9999449761411909,1.0,\n",
      "Fidelity, -0.060930204365806276,0.370095278449993,0.40962448812438185,0.3448106807209311,0.3066620202220265,0.23137712761043047,0.12960681832701032,0.0008290377950291795,0.0,\n",
      "\n",
      "AUC computation:\n",
      " Number of false negatives found: 0\n",
      " Total number of edges in data:   84746\n",
      "Evaluted [1393, 0] samples with noise 0\n",
      "Average adj diff: [0.]\n",
      "Average feat diff: [0.]\n",
      "Average noise diff: [0.]\n",
      "Average mAP: [1.]\n",
      "ROC AUC: 0.842615498879274\n",
      "nDCG: [1.]\n",
      "Reporting statistics\n",
      "Samples: 0\n",
      "Edge fidelity prediction change: [0. 0. 0. 0. 0. 0. 0. 0. 0.]\n",
      " Edge fidelity confidence change: [0. 0. 0. 0. 0. 0. 0. 0. 0.] for sparsity [0. 0. 0. 0. 0. 0. 0. 0. 0.]\n",
      "Mask density: [0.]\n",
      "Sparsity, 0.0,0.0,0.0,0.0,0.0,0.0,0.0,0.0,0.0,\n",
      "Fidelity, 0.0,0.0,0.0,0.0,0.0,0.0,0.0,0.0,0.0,\n",
      "\n",
      "AUC computation:\n",
      " Number of false negatives found: 0\n",
      " Total number of edges in data:   84746\n",
      "AUC computation:\n",
      " Number of false negatives found: 26\n",
      " Total number of edges in data:   86016\n",
      "Evaluted [1195, 198] samples with noise 5.0\n",
      "Average adj diff: [0.9623430962343096]\n",
      "Average feat diff: [1.496234309623431]\n",
      "Average noise diff: [1.496234309623431]\n",
      "Average mAP: [0.8552587153840736]\n",
      "ROC AUC: 0.8111968961964972\n",
      "nDCG: [0.9796198640286635]\n",
      "Reporting statistics\n",
      "Samples: 0\n",
      "Edge fidelity prediction change: [0. 0. 0. 0. 0. 0. 0. 0. 0.]\n",
      " Edge fidelity confidence change: [0. 0. 0. 0. 0. 0. 0. 0. 0.] for sparsity [0. 0. 0. 0. 0. 0. 0. 0. 0.]\n",
      "Mask density: [0.]\n",
      "Sparsity, 0.0,0.0,0.0,0.0,0.0,0.0,0.0,0.0,0.0,\n",
      "Fidelity, 0.0,0.0,0.0,0.0,0.0,0.0,0.0,0.0,0.0,\n",
      "\n",
      "AUC computation:\n",
      " Number of false negatives found: 26\n",
      " Total number of edges in data:   86016\n",
      "AUC computation:\n",
      " Number of false negatives found: 56\n",
      " Total number of edges in data:   87905\n",
      "Evaluted [973, 420] samples with noise 10.0\n",
      "Average adj diff: [2.4388489208633093]\n",
      "Average feat diff: [4.086330935251799]\n",
      "Average noise diff: [4.086330935251799]\n",
      "Average mAP: [0.7067377530642727]\n",
      "ROC AUC: 0.7717786299814668\n",
      "nDCG: [0.9518727918580903]\n",
      "Reporting statistics\n",
      "Samples: 0\n",
      "Edge fidelity prediction change: [0. 0. 0. 0. 0. 0. 0. 0. 0.]\n",
      " Edge fidelity confidence change: [0. 0. 0. 0. 0. 0. 0. 0. 0.] for sparsity [0. 0. 0. 0. 0. 0. 0. 0. 0.]\n",
      "Mask density: [0.]\n",
      "Sparsity, 0.0,0.0,0.0,0.0,0.0,0.0,0.0,0.0,0.0,\n",
      "Fidelity, 0.0,0.0,0.0,0.0,0.0,0.0,0.0,0.0,0.0,\n",
      "\n",
      "AUC computation:\n",
      " Number of false negatives found: 56\n",
      " Total number of edges in data:   87905\n",
      "AUC computation:\n",
      " Number of false negatives found: 64\n",
      " Total number of edges in data:   89550\n",
      "Evaluted [854, 539] samples with noise 15.0\n",
      "Average adj diff: [3.7142857142857144]\n",
      "Average feat diff: [6.51288056206089]\n",
      "Average noise diff: [6.51288056206089]\n",
      "Average mAP: [0.6194702362121861]\n",
      "ROC AUC: 0.7295980329186404\n",
      "nDCG: [0.9312146809483532]\n",
      "Reporting statistics\n",
      "Samples: 0\n",
      "Edge fidelity prediction change: [0. 0. 0. 0. 0. 0. 0. 0. 0.]\n",
      " Edge fidelity confidence change: [0. 0. 0. 0. 0. 0. 0. 0. 0.] for sparsity [0. 0. 0. 0. 0. 0. 0. 0. 0.]\n",
      "Mask density: [0.]\n",
      "Sparsity, 0.0,0.0,0.0,0.0,0.0,0.0,0.0,0.0,0.0,\n",
      "Fidelity, 0.0,0.0,0.0,0.0,0.0,0.0,0.0,0.0,0.0,\n",
      "\n",
      "AUC computation:\n",
      " Number of false negatives found: 64\n",
      " Total number of edges in data:   89550\n",
      "AUC computation:\n",
      " Number of false negatives found: 100\n",
      " Total number of edges in data:   91507\n",
      "Evaluted [763, 630] samples with noise 20.0\n",
      "Average adj diff: [5.062909567496724]\n",
      "Average feat diff: [9.245085190039319]\n",
      "Average noise diff: [9.245085190039319]\n",
      "Average mAP: [0.5450288618779896]\n",
      "ROC AUC: 0.6998574223292084\n",
      "nDCG: [0.9157064357222887]\n",
      "Reporting statistics\n",
      "Samples: 0\n",
      "Edge fidelity prediction change: [0. 0. 0. 0. 0. 0. 0. 0. 0.]\n",
      " Edge fidelity confidence change: [0. 0. 0. 0. 0. 0. 0. 0. 0.] for sparsity [0. 0. 0. 0. 0. 0. 0. 0. 0.]\n",
      "Mask density: [0.]\n",
      "Sparsity, 0.0,0.0,0.0,0.0,0.0,0.0,0.0,0.0,0.0,\n",
      "Fidelity, 0.0,0.0,0.0,0.0,0.0,0.0,0.0,0.0,0.0,\n",
      "\n",
      "AUC computation:\n",
      " Number of false negatives found: 100\n",
      " Total number of edges in data:   91507\n",
      "AUC computation:\n",
      " Number of false negatives found: 146\n",
      " Total number of edges in data:   93110\n",
      "Evaluted [698, 695] samples with noise 25.0\n",
      "Average adj diff: [6.630372492836676]\n",
      "Average feat diff: [11.979942693409741]\n",
      "Average noise diff: [11.979942693409741]\n",
      "Average mAP: [0.4969040978551421]\n",
      "ROC AUC: 0.6819163155697003\n",
      "nDCG: [0.9013396512354589]\n",
      "Reporting statistics\n",
      "Samples: 0\n",
      "Edge fidelity prediction change: [0. 0. 0. 0. 0. 0. 0. 0. 0.]\n",
      " Edge fidelity confidence change: [0. 0. 0. 0. 0. 0. 0. 0. 0.] for sparsity [0. 0. 0. 0. 0. 0. 0. 0. 0.]\n",
      "Mask density: [0.]\n",
      "Sparsity, 0.0,0.0,0.0,0.0,0.0,0.0,0.0,0.0,0.0,\n",
      "Fidelity, 0.0,0.0,0.0,0.0,0.0,0.0,0.0,0.0,0.0,\n",
      "\n",
      "AUC computation:\n",
      " Number of false negatives found: 146\n",
      " Total number of edges in data:   93110\n",
      "AUC computation:\n",
      " Number of false negatives found: 182\n",
      " Total number of edges in data:   94627\n",
      "Evaluted [731, 662] samples with noise 30.0\n",
      "Average adj diff: [7.8426812585499315]\n",
      "Average feat diff: [14.596443228454172]\n",
      "Average noise diff: [14.596443228454172]\n",
      "Average mAP: [0.4536405031121239]\n",
      "ROC AUC: 0.658112278592749\n",
      "nDCG: [0.8897334748017197]\n",
      "Reporting statistics\n",
      "Samples: 0\n",
      "Edge fidelity prediction change: [0. 0. 0. 0. 0. 0. 0. 0. 0.]\n",
      " Edge fidelity confidence change: [0. 0. 0. 0. 0. 0. 0. 0. 0.] for sparsity [0. 0. 0. 0. 0. 0. 0. 0. 0.]\n",
      "Mask density: [0.]\n",
      "Sparsity, 0.0,0.0,0.0,0.0,0.0,0.0,0.0,0.0,0.0,\n",
      "Fidelity, 0.0,0.0,0.0,0.0,0.0,0.0,0.0,0.0,0.0,\n",
      "\n",
      "AUC computation:\n",
      " Number of false negatives found: 182\n",
      " Total number of edges in data:   94627\n",
      "NOISE SUMMARY\n",
      "0, 0, [1393, 0]\n",
      "AUC computation:\n",
      " Number of false negatives found: 0\n",
      " Total number of edges in data:   84746\n",
      "0.05, 0, [1195, 198]\n",
      "AUC computation:\n",
      " Number of false negatives found: 26\n",
      " Total number of edges in data:   86016\n",
      "0.1, 0, [973, 420]\n",
      "AUC computation:\n",
      " Number of false negatives found: 56\n",
      " Total number of edges in data:   87905\n",
      "0.15, 0, [854, 539]\n",
      "AUC computation:\n",
      " Number of false negatives found: 64\n",
      " Total number of edges in data:   89550\n",
      "0.2, 0, [763, 630]\n",
      "AUC computation:\n",
      " Number of false negatives found: 100\n",
      " Total number of edges in data:   91507\n",
      "0.25, 0, [698, 695]\n",
      "AUC computation:\n",
      " Number of false negatives found: 146\n",
      " Total number of edges in data:   93110\n"
     ]
    },
    {
     "name": "stderr",
     "output_type": "stream",
     "text": [
      "\r",
      "  0%|          | 0/349 [00:00<?, ?it/s]"
     ]
    },
    {
     "name": "stdout",
     "output_type": "stream",
     "text": [
      "0.3, 0, [731, 662]\n",
      "AUC computation:\n",
      " Number of false negatives found: 182\n",
      " Total number of edges in data:   94627\n",
      "SUMMARY\n",
      "Sparsity, 0.0000,0.5245,0.7740,0.8326,0.8757,0.9312,0.9760,0.9999,1.0000,\n",
      "Fidelity, -0.0609,0.3701,0.4096,0.3448,0.3067,0.2314,0.1296,0.0008,0.0000,\n",
      "\n",
      "SPARSITY [0.0, 0.5245464308092428, 0.7740269695266236, 0.8325785148597329, 0.8756843114275772, 0.931221563398453, 0.9760392962046347, 0.9999449761411909, 1.0]\n",
      "FIDELITY [-0.060930204365806276, 0.370095278449993, 0.40962448812438185, 0.3448106807209311, 0.3066620202220265, 0.23137712761043047, 0.12960681832701032, 0.0008290377950291795, 0.0]\n",
      "NOISE VALS [0, 0.05, 0.1, 0.15, 0.2, 0.25, 0.3]\n",
      "ROC AUC [0.842615498879274, 0.8111968961964972, 0.7717786299814668, 0.7295980329186404, 0.6998574223292084, 0.6819163155697003, 0.658112278592749]\n",
      "=========\n",
      "Average execution time (in seconds) 0.004217290399062573 std: 0.00018864089387436372\n",
      "Using AUC Metric: original\n",
      "Using AUC Metric: original\n",
      "Using AUC Metric: original\n",
      "Using AUC Metric: original\n",
      "Using AUC Metric: original\n",
      "Using AUC Metric: original\n",
      "Using AUC Metric: original\n",
      "sum of params of loaded explainer: -50.26020031794906\n",
      "sum of params of loaded model: -45.76451079547405\n"
     ]
    },
    {
     "name": "stderr",
     "output_type": "stream",
     "text": [
      "100%|██████████| 349/349 [00:52<00:00,  6.67it/s]\n"
     ]
    },
    {
     "name": "stdout",
     "output_type": "stream",
     "text": [
      "noise percent: 10.0, inverse noise: False\n",
      "avg removed edges: 0.0\n",
      "pred removed edges: 0.0\n",
      "avg added edges: 0.0\n",
      "avg adj diff: 0.0\n",
      "avg noise diff: 0.0\n",
      "avg pred diff: 0.0\n",
      "skipped iters: 0.0\n",
      "Average mask density: 0.45034628966738394\n",
      "pos diff: [0.5969964842229313 0.                ], inv diff: [0.6421089834162704 0.                ], k: 8.0, topk inv diff: [0.4001358822628557 0.                ]\n",
      "Variance:  0.049653710332615834\n",
      "Flips:  [349.   0.]\n",
      "inv Flips:  [349.   0.]\n",
      "topk inv Flips:  [179.   0.]\n",
      "Incorrect preds:  41.0\n",
      "Total:  [349.   1.]\n",
      "Reporting statistics\n",
      "Samples: 349\n",
      "Edge fidelity prediction change: [0.0057306590257879654 0.44412607449856734   0.47564469914040114\n",
      " 0.4183381088825215    0.40114613180515757   0.3209169054441261\n",
      " 0.16045845272206305   0.                    0.                   ]\n",
      " Edge fidelity confidence change: [-6.9438298315578337e-02  3.6966057382203787e-01  3.8846286473779762e-01\n",
      "  3.4972652912481467e-01  3.2725921725816920e-01  2.4974581889573347e-01\n",
      "  1.3507107848082708e-01  2.2682368242979732e-04  0.0000000000000000e+00] for sparsity [0.                 0.5205173145734137 0.7754656313825132\n",
      " 0.83412843003314   0.8787257365647565 0.9313943604685174\n",
      " 0.9755644328614702 0.9999454173454241 1.                ]\n",
      "Mask density: [0.]\n",
      "Sparsity, 0.0,0.5205173145734137,0.7754656313825132,0.83412843003314,0.8787257365647565,0.9313943604685174,0.9755644328614702,0.9999454173454241,1.0,\n",
      "Fidelity, -0.06943829831557834,0.3696605738220379,0.3884628647377976,0.34972652912481467,0.3272592172581692,0.24974581889573347,0.13507107848082708,0.00022682368242979732,0.0,\n",
      "\n",
      "AUC computation:\n",
      " Number of false negatives found: 0\n",
      " Total number of edges in data:   21470\n",
      "Evaluted [349, 0] samples with noise 0\n",
      "Average adj diff: [0.]\n",
      "Average feat diff: [0.]\n",
      "Average noise diff: [0.]\n",
      "Average mAP: [1.]\n",
      "ROC AUC: 0.8409919150380927\n",
      "nDCG: [1.]\n",
      "Reporting statistics\n",
      "Samples: 0\n",
      "Edge fidelity prediction change: [0. 0. 0. 0. 0. 0. 0. 0. 0.]\n",
      " Edge fidelity confidence change: [0. 0. 0. 0. 0. 0. 0. 0. 0.] for sparsity [0. 0. 0. 0. 0. 0. 0. 0. 0.]\n",
      "Mask density: [0.]\n",
      "Sparsity, 0.0,0.0,0.0,0.0,0.0,0.0,0.0,0.0,0.0,\n",
      "Fidelity, 0.0,0.0,0.0,0.0,0.0,0.0,0.0,0.0,0.0,\n",
      "\n",
      "AUC computation:\n",
      " Number of false negatives found: 0\n",
      " Total number of edges in data:   21470\n",
      "AUC computation:\n",
      " Number of false negatives found: 10\n",
      " Total number of edges in data:   21789\n",
      "Evaluted [300, 49] samples with noise 5.0\n",
      "Average adj diff: [0.9566666666666667]\n",
      "Average feat diff: [1.58]\n",
      "Average noise diff: [1.58]\n",
      "Average mAP: [0.8272156645068142]\n",
      "ROC AUC: 0.8009538655497674\n",
      "nDCG: [0.9747388280627705]\n",
      "Reporting statistics\n",
      "Samples: 0\n",
      "Edge fidelity prediction change: [0. 0. 0. 0. 0. 0. 0. 0. 0.]\n",
      " Edge fidelity confidence change: [0. 0. 0. 0. 0. 0. 0. 0. 0.] for sparsity [0. 0. 0. 0. 0. 0. 0. 0. 0.]\n",
      "Mask density: [0.]\n",
      "Sparsity, 0.0,0.0,0.0,0.0,0.0,0.0,0.0,0.0,0.0,\n",
      "Fidelity, 0.0,0.0,0.0,0.0,0.0,0.0,0.0,0.0,0.0,\n",
      "\n",
      "AUC computation:\n",
      " Number of false negatives found: 10\n",
      " Total number of edges in data:   21789\n",
      "AUC computation:\n",
      " Number of false negatives found: 18\n",
      " Total number of edges in data:   22215\n",
      "Evaluted [257, 92] samples with noise 10.0\n",
      "Average adj diff: [2.4669260700389106]\n",
      "Average feat diff: [4.249027237354086]\n",
      "Average noise diff: [4.249027237354086]\n",
      "Average mAP: [0.7045037017708718]\n",
      "ROC AUC: 0.7670405446412513\n",
      "nDCG: [0.9520925708468105]\n",
      "Reporting statistics\n",
      "Samples: 0\n",
      "Edge fidelity prediction change: [0. 0. 0. 0. 0. 0. 0. 0. 0.]\n",
      " Edge fidelity confidence change: [0. 0. 0. 0. 0. 0. 0. 0. 0.] for sparsity [0. 0. 0. 0. 0. 0. 0. 0. 0.]\n",
      "Mask density: [0.]\n",
      "Sparsity, 0.0,0.0,0.0,0.0,0.0,0.0,0.0,0.0,0.0,\n",
      "Fidelity, 0.0,0.0,0.0,0.0,0.0,0.0,0.0,0.0,0.0,\n",
      "\n",
      "AUC computation:\n",
      " Number of false negatives found: 18\n",
      " Total number of edges in data:   22215\n",
      "AUC computation:\n",
      " Number of false negatives found: 20\n",
      " Total number of edges in data:   22616\n",
      "Evaluted [216, 133] samples with noise 15.0\n",
      "Average adj diff: [3.6527777777777777]\n",
      "Average feat diff: [6.324074074074074]\n",
      "Average noise diff: [6.324074074074074]\n",
      "Average mAP: [0.6208089548361119]\n",
      "ROC AUC: 0.7283027808846032\n",
      "nDCG: [0.9338264085335573]\n",
      "Reporting statistics\n",
      "Samples: 0\n",
      "Edge fidelity prediction change: [0. 0. 0. 0. 0. 0. 0. 0. 0.]\n",
      " Edge fidelity confidence change: [0. 0. 0. 0. 0. 0. 0. 0. 0.] for sparsity [0. 0. 0. 0. 0. 0. 0. 0. 0.]\n",
      "Mask density: [0.]\n",
      "Sparsity, 0.0,0.0,0.0,0.0,0.0,0.0,0.0,0.0,0.0,\n",
      "Fidelity, 0.0,0.0,0.0,0.0,0.0,0.0,0.0,0.0,0.0,\n",
      "\n",
      "AUC computation:\n",
      " Number of false negatives found: 20\n",
      " Total number of edges in data:   22616\n",
      "AUC computation:\n",
      " Number of false negatives found: 28\n",
      " Total number of edges in data:   23153\n",
      "Evaluted [185, 164] samples with noise 20.0\n",
      "Average adj diff: [5.248648648648649]\n",
      "Average feat diff: [9.805405405405406]\n",
      "Average noise diff: [9.805405405405406]\n",
      "Average mAP: [0.5331888796425357]\n",
      "ROC AUC: 0.6870054440505766\n",
      "nDCG: [0.9150222370379705]\n",
      "Reporting statistics\n",
      "Samples: 0\n",
      "Edge fidelity prediction change: [0. 0. 0. 0. 0. 0. 0. 0. 0.]\n",
      " Edge fidelity confidence change: [0. 0. 0. 0. 0. 0. 0. 0. 0.] for sparsity [0. 0. 0. 0. 0. 0. 0. 0. 0.]\n",
      "Mask density: [0.]\n",
      "Sparsity, 0.0,0.0,0.0,0.0,0.0,0.0,0.0,0.0,0.0,\n",
      "Fidelity, 0.0,0.0,0.0,0.0,0.0,0.0,0.0,0.0,0.0,\n",
      "\n",
      "AUC computation:\n",
      " Number of false negatives found: 28\n",
      " Total number of edges in data:   23153\n",
      "AUC computation:\n",
      " Number of false negatives found: 40\n",
      " Total number of edges in data:   23545\n",
      "Evaluted [171, 178] samples with noise 25.0\n",
      "Average adj diff: [6.233918128654971]\n",
      "Average feat diff: [12.]\n",
      "Average noise diff: [12.]\n",
      "Average mAP: [0.477638882370076]\n",
      "ROC AUC: 0.6626056483761922\n",
      "nDCG: [0.8988362927271337]\n",
      "Reporting statistics\n",
      "Samples: 0\n",
      "Edge fidelity prediction change: [0. 0. 0. 0. 0. 0. 0. 0. 0.]\n",
      " Edge fidelity confidence change: [0. 0. 0. 0. 0. 0. 0. 0. 0.] for sparsity [0. 0. 0. 0. 0. 0. 0. 0. 0.]\n",
      "Mask density: [0.]\n",
      "Sparsity, 0.0,0.0,0.0,0.0,0.0,0.0,0.0,0.0,0.0,\n",
      "Fidelity, 0.0,0.0,0.0,0.0,0.0,0.0,0.0,0.0,0.0,\n",
      "\n",
      "AUC computation:\n",
      " Number of false negatives found: 40\n",
      " Total number of edges in data:   23545\n",
      "AUC computation:\n",
      " Number of false negatives found: 36\n",
      " Total number of edges in data:   24053\n",
      "Evaluted [157, 192] samples with noise 30.0\n",
      "Average adj diff: [7.503184713375796]\n",
      "Average feat diff: [13.719745222929935]\n",
      "Average noise diff: [13.719745222929935]\n",
      "Average mAP: [0.45727747026411647]\n",
      "ROC AUC: 0.6664326693831621\n",
      "nDCG: [0.8936111318095221]\n",
      "Reporting statistics\n",
      "Samples: 0\n",
      "Edge fidelity prediction change: [0. 0. 0. 0. 0. 0. 0. 0. 0.]\n",
      " Edge fidelity confidence change: [0. 0. 0. 0. 0. 0. 0. 0. 0.] for sparsity [0. 0. 0. 0. 0. 0. 0. 0. 0.]\n",
      "Mask density: [0.]\n",
      "Sparsity, 0.0,0.0,0.0,0.0,0.0,0.0,0.0,0.0,0.0,\n",
      "Fidelity, 0.0,0.0,0.0,0.0,0.0,0.0,0.0,0.0,0.0,\n",
      "\n",
      "AUC computation:\n",
      " Number of false negatives found: 36\n",
      " Total number of edges in data:   24053\n",
      "NOISE SUMMARY\n",
      "0, 0, [349, 0]\n",
      "AUC computation:\n",
      " Number of false negatives found: 0\n",
      " Total number of edges in data:   21470\n",
      "0.05, 0, [300, 49]\n",
      "AUC computation:\n",
      " Number of false negatives found: 10\n",
      " Total number of edges in data:   21789\n",
      "0.1, 0, [257, 92]\n",
      "AUC computation:\n",
      " Number of false negatives found: 18\n",
      " Total number of edges in data:   22215\n",
      "0.15, 0, [216, 133]\n",
      "AUC computation:\n",
      " Number of false negatives found: 20\n",
      " Total number of edges in data:   22616\n",
      "0.2, 0, [185, 164]\n",
      "AUC computation:\n",
      " Number of false negatives found: 28\n",
      " Total number of edges in data:   23153\n",
      "0.25, 0, [171, 178]\n",
      "AUC computation:\n",
      " Number of false negatives found: 40\n",
      " Total number of edges in data:   23545\n",
      "0.3, 0, [157, 192]\n",
      "AUC computation:\n",
      " Number of false negatives found: 36\n",
      " Total number of edges in data:   24053\n",
      "SUMMARY\n",
      "Sparsity, 0.0000,0.5205,0.7755,0.8341,0.8787,0.9314,0.9756,0.9999,1.0000,\n",
      "Fidelity, -0.0694,0.3697,0.3885,0.3497,0.3273,0.2497,0.1351,0.0002,0.0000,\n",
      "\n",
      "SPARSITY [0.0, 0.5205173145734137, 0.7754656313825132, 0.83412843003314, 0.8787257365647565, 0.9313943604685174, 0.9755644328614702, 0.9999454173454241, 1.0]\n",
      "FIDELITY [-0.06943829831557834, 0.3696605738220379, 0.3884628647377976, 0.34972652912481467, 0.3272592172581692, 0.24974581889573347, 0.13507107848082708, 0.00022682368242979732, 0.0]\n",
      "NOISE VALS [0, 0.05, 0.1, 0.15, 0.2, 0.25, 0.3]\n",
      "ROC AUC [0.8409919150380927, 0.8009538655497674, 0.7670405446412513, 0.7283027808846032, 0.6870054440505766, 0.6626056483761922, 0.6664326693831621]\n",
      "=========\n",
      "Average execution time (in seconds) 0.00425060157447968 std: 0.00023465616435375318\n",
      "Evaluating seed 3\n"
     ]
    },
    {
     "name": "stdout",
     "output_type": "stream",
     "text": [
      "Skipping rcexp with seed 3 and sparsity 0.8\n",
      "Cannot find model in saved_models/rcexp_mutag_seed_3_sparsity_0.8_logdir_RIGHT_HYPERPARAMS/rcexp_mutagexplainer_Mutagenicity_ep_0_seed_3_sparsity_0.8_RIGHT_HYPERPARAMS.pth.tar\n",
      "Evaluating seed 5\n",
      "Skipping rcexp with seed 5 and sparsity 0.8\n",
      "Cannot find model in saved_models/rcexp_mutag_seed_5_sparsity_0.8_logdir_RIGHT_HYPERPARAMS/rcexp_mutagexplainer_Mutagenicity_ep_0_seed_5_sparsity_0.8_RIGHT_HYPERPARAMS.pth.tar\n",
      "Evaluating seed 8\n",
      "Skipping rcexp with seed 8 and sparsity 0.8\n",
      "Cannot find model in saved_models/rcexp_mutag_seed_8_sparsity_0.8_logdir_RIGHT_HYPERPARAMS/rcexp_mutagexplainer_Mutagenicity_ep_0_seed_8_sparsity_0.8_RIGHT_HYPERPARAMS.pth.tar\n",
      "Evaluating seed 10\n",
      "Skipping rcexp with seed 10 and sparsity 0.8\n",
      "Cannot find model in saved_models/rcexp_mutag_seed_10_sparsity_0.8_logdir_RIGHT_HYPERPARAMS/rcexp_mutagexplainer_Mutagenicity_ep_0_seed_10_sparsity_0.8_RIGHT_HYPERPARAMS.pth.tar\n",
      "Evaluating seed 15\n",
      "Skipping rcexp with seed 15 and sparsity 0.8\n",
      "Cannot find model in saved_models/rcexp_mutag_seed_15_sparsity_0.8_logdir_RIGHT_HYPERPARAMS/rcexp_mutagexplainer_Mutagenicity_ep_0_seed_15_sparsity_0.8_RIGHT_HYPERPARAMS.pth.tar\n",
      "Evaluating seed 42\n",
      "Skipping rcexp with seed 42 and sparsity 0.8\n",
      "Cannot find model in saved_models/rcexp_mutag_seed_42_sparsity_0.8_logdir_RIGHT_HYPERPARAMS/rcexp_mutagexplainer_Mutagenicity_ep_0_seed_42_sparsity_0.8_RIGHT_HYPERPARAMS.pth.tar\n",
      "Evaluating seed 69\n",
      "Skipping rcexp with seed 69 and sparsity 0.8\n",
      "Cannot find model in saved_models/rcexp_mutag_seed_69_sparsity_0.8_logdir_RIGHT_HYPERPARAMS/rcexp_mutagexplainer_Mutagenicity_ep_0_seed_69_sparsity_0.8_RIGHT_HYPERPARAMS.pth.tar\n",
      "Evaluating seed 101\n",
      "Skipping rcexp with seed 101 and sparsity 0.8\n",
      "Cannot find model in saved_models/rcexp_mutag_seed_101_sparsity_0.8_logdir_RIGHT_HYPERPARAMS/rcexp_mutagexplainer_Mutagenicity_ep_0_seed_101_sparsity_0.8_RIGHT_HYPERPARAMS.pth.tar\n",
      "Evaluating sparsity 1.0\n",
      "Evaluating seed 0\n",
      "CUDA 1\n",
      "loading model\n",
      "ckpt/Mutagenicity/Mutagenicity_base_h20_o20.pth.tar\n",
      "=> loading checkpoint 'ckpt/Mutagenicity/Mutagenicity_base_h20_o20.pth.tar'\n"
     ]
    },
    {
     "name": "stderr",
     "output_type": "stream",
     "text": [
      "  0%|          | 1/1742 [00:00<04:20,  6.68it/s]"
     ]
    },
    {
     "name": "stdout",
     "output_type": "stream",
     "text": [
      "Loaded model from ckpt/Mutagenicity\n",
      "input dim:  14 ; num classes:  2\n",
      "Method:  base\n",
      "Graph indices for label  0  : \n",
      "loading initial explainer ckpt from :  saved_models/rcexp_mutag_seed_0_sparsity_1.0_logdir_RIGHT_HYPERPARAMS/rcexp_mutagexplainer_Mutagenicity_ep_0_seed_0_sparsity_1.0_RIGHT_HYPERPARMS.pth.tar\n",
      "Using AUC Metric: original\n",
      "Using AUC Metric: original\n",
      "Using AUC Metric: original\n",
      "Using AUC Metric: original\n",
      "Using AUC Metric: original\n",
      "Using AUC Metric: original\n",
      "Using AUC Metric: original\n",
      "sum of params of loaded explainer: -46.207328259944916\n",
      "sum of params of loaded model: -45.76451079547405\n"
     ]
    },
    {
     "name": "stderr",
     "output_type": "stream",
     "text": [
      "100%|██████████| 1742/1742 [04:20<00:00,  6.69it/s]\n"
     ]
    },
    {
     "name": "stdout",
     "output_type": "stream",
     "text": [
      "noise percent: 10.0, inverse noise: False\n",
      "avg removed edges: 0.0\n",
      "pred removed edges: 0.0\n",
      "avg added edges: 0.0\n",
      "avg adj diff: 0.0\n",
      "avg noise diff: 0.0\n",
      "avg pred diff: 0.0\n",
      "skipped iters: 0.0\n",
      "Average mask density: 0.48619915355636684\n",
      "pos diff: [0.592168482210825 0.               ], inv diff: [0.6405553936650367 0.                ], k: 8.0, topk inv diff: [0.3293814479312448 0.                ]\n",
      "Variance:  0.018754158653189766\n",
      "Flips:  [1742.    0.]\n",
      "inv Flips:  [1742.    0.]\n",
      "topk inv Flips:  [1034.    0.]\n",
      "Incorrect preds:  177.0\n",
      "Total:  [1.742e+03 1.000e+00]\n",
      "Reporting statistics\n",
      "Samples: 1742\n",
      "Edge fidelity prediction change: [0.007462686567164179 0.3811710677382319   0.3886337543053961\n",
      " 0.34959816303099883  0.3111366245694604   0.24225028702640644\n",
      " 0.12916188289322617  0.000574052812858783 0.                  ]\n",
      " Edge fidelity confidence change: [-0.06263475361291905    0.31384338541159534    0.31599035397189085\n",
      "  0.2807425886700539     0.24956803292412436    0.19710907156993\n",
      "  0.10924905839661643    0.0006598786084167445  0.                   ] for sparsity [0.                 0.5267951659575943 0.7756839743232617\n",
      " 0.83365778394052   0.877097623835475  0.9316360183000291\n",
      " 0.9768871752594424 0.9999450645340022 1.                ]\n",
      "Mask density: [0.]\n",
      "Sparsity, 0.0,0.5267951659575943,0.7756839743232617,0.83365778394052,0.877097623835475,0.9316360183000291,0.9768871752594424,0.9999450645340022,1.0,\n",
      "Fidelity, -0.06263475361291905,0.31384338541159534,0.31599035397189085,0.2807425886700539,0.24956803292412436,0.19710907156993,0.10924905839661643,0.0006598786084167445,0.0,\n",
      "\n",
      "AUC computation:\n",
      " Number of false negatives found: 0\n",
      " Total number of edges in data:   106216\n",
      "Evaluted [1742, 0] samples with noise 0\n",
      "Average adj diff: [0.]\n",
      "Average feat diff: [0.]\n",
      "Average noise diff: [0.]\n",
      "Average mAP: [1.]\n",
      "ROC AUC: 0.8349412669885525\n",
      "nDCG: [1.]\n",
      "Reporting statistics\n",
      "Samples: 0\n",
      "Edge fidelity prediction change: [0. 0. 0. 0. 0. 0. 0. 0. 0.]\n",
      " Edge fidelity confidence change: [0. 0. 0. 0. 0. 0. 0. 0. 0.] for sparsity [0. 0. 0. 0. 0. 0. 0. 0. 0.]\n",
      "Mask density: [0.]\n",
      "Sparsity, 0.0,0.0,0.0,0.0,0.0,0.0,0.0,0.0,0.0,\n",
      "Fidelity, 0.0,0.0,0.0,0.0,0.0,0.0,0.0,0.0,0.0,\n",
      "\n",
      "AUC computation:\n",
      " Number of false negatives found: 0\n",
      " Total number of edges in data:   106216\n",
      "AUC computation:\n",
      " Number of false negatives found: 18\n",
      " Total number of edges in data:   107779\n",
      "Evaluted [1511, 231] samples with noise 5.0\n",
      "Average adj diff: [0.9331568497683653]\n",
      "Average feat diff: [1.5129053606882858]\n",
      "Average noise diff: [1.5129053606882858]\n",
      "Average mAP: [0.8407705621181245]\n",
      "ROC AUC: 0.7929944058095577\n",
      "nDCG: [0.974300497940015]\n",
      "Reporting statistics\n",
      "Samples: 0\n",
      "Edge fidelity prediction change: [0. 0. 0. 0. 0. 0. 0. 0. 0.]\n",
      " Edge fidelity confidence change: [0. 0. 0. 0. 0. 0. 0. 0. 0.] for sparsity [0. 0. 0. 0. 0. 0. 0. 0. 0.]\n",
      "Mask density: [0.]\n",
      "Sparsity, 0.0,0.0,0.0,0.0,0.0,0.0,0.0,0.0,0.0,\n",
      "Fidelity, 0.0,0.0,0.0,0.0,0.0,0.0,0.0,0.0,0.0,\n",
      "\n",
      "AUC computation:\n",
      " Number of false negatives found: 18\n",
      " Total number of edges in data:   107779\n",
      "AUC computation:\n",
      " Number of false negatives found: 62\n",
      " Total number of edges in data:   109995\n",
      "Evaluted [1227, 515] samples with noise 10.0\n",
      "Average adj diff: [2.255908720456398]\n",
      "Average feat diff: [3.838630806845966]\n",
      "Average noise diff: [3.838630806845966]\n",
      "Average mAP: [0.6891328629052795]\n",
      "ROC AUC: 0.7408112970284892\n",
      "nDCG: [0.9414797168045942]\n",
      "Reporting statistics\n",
      "Samples: 0\n",
      "Edge fidelity prediction change: [0. 0. 0. 0. 0. 0. 0. 0. 0.]\n",
      " Edge fidelity confidence change: [0. 0. 0. 0. 0. 0. 0. 0. 0.] for sparsity [0. 0. 0. 0. 0. 0. 0. 0. 0.]\n",
      "Mask density: [0.]\n",
      "Sparsity, 0.0,0.0,0.0,0.0,0.0,0.0,0.0,0.0,0.0,\n",
      "Fidelity, 0.0,0.0,0.0,0.0,0.0,0.0,0.0,0.0,0.0,\n",
      "\n",
      "AUC computation:\n",
      " Number of false negatives found: 62\n",
      " Total number of edges in data:   109995\n",
      "AUC computation:\n",
      " Number of false negatives found: 120\n",
      " Total number of edges in data:   112184\n",
      "Evaluted [1059, 683] samples with noise 15.0\n",
      "Average adj diff: [3.789423984891407]\n",
      "Average feat diff: [6.602455146364495]\n",
      "Average noise diff: [6.602455146364495]\n",
      "Average mAP: [0.5849970352893825]\n",
      "ROC AUC: 0.6962033515136717\n",
      "nDCG: [0.9165648695429642]\n",
      "Reporting statistics\n",
      "Samples: 0\n",
      "Edge fidelity prediction change: [0. 0. 0. 0. 0. 0. 0. 0. 0.]\n",
      " Edge fidelity confidence change: [0. 0. 0. 0. 0. 0. 0. 0. 0.] for sparsity [0. 0. 0. 0. 0. 0. 0. 0. 0.]\n",
      "Mask density: [0.]\n",
      "Sparsity, 0.0,0.0,0.0,0.0,0.0,0.0,0.0,0.0,0.0,\n",
      "Fidelity, 0.0,0.0,0.0,0.0,0.0,0.0,0.0,0.0,0.0,\n",
      "\n",
      "AUC computation:\n",
      " Number of false negatives found: 120\n",
      " Total number of edges in data:   112184\n",
      "AUC computation:\n",
      " Number of false negatives found: 150\n",
      " Total number of edges in data:   114550\n",
      "Evaluted [938, 804] samples with noise 20.0\n",
      "Average adj diff: [5.20042643923241]\n",
      "Average feat diff: [9.091684434968018]\n",
      "Average noise diff: [9.091684434968018]\n",
      "Average mAP: [0.5155447386094812]\n",
      "ROC AUC: 0.6633770076071083\n",
      "nDCG: [0.9010750327429382]\n",
      "Reporting statistics\n",
      "Samples: 0\n",
      "Edge fidelity prediction change: [0. 0. 0. 0. 0. 0. 0. 0. 0.]\n",
      " Edge fidelity confidence change: [0. 0. 0. 0. 0. 0. 0. 0. 0.] for sparsity [0. 0. 0. 0. 0. 0. 0. 0. 0.]\n",
      "Mask density: [0.]\n",
      "Sparsity, 0.0,0.0,0.0,0.0,0.0,0.0,0.0,0.0,0.0,\n",
      "Fidelity, 0.0,0.0,0.0,0.0,0.0,0.0,0.0,0.0,0.0,\n",
      "\n",
      "AUC computation:\n",
      " Number of false negatives found: 150\n",
      " Total number of edges in data:   114550\n",
      "AUC computation:\n",
      " Number of false negatives found: 176\n",
      " Total number of edges in data:   116973\n",
      "Evaluted [870, 872] samples with noise 25.0\n",
      "Average adj diff: [6.618390804597701]\n",
      "Average feat diff: [12.12183908045977]\n",
      "Average noise diff: [12.12183908045977]\n",
      "Average mAP: [0.4716524954253717]\n",
      "ROC AUC: 0.6493384615004885\n",
      "nDCG: [0.8888961923454077]\n",
      "Reporting statistics\n",
      "Samples: 0\n",
      "Edge fidelity prediction change: [0. 0. 0. 0. 0. 0. 0. 0. 0.]\n",
      " Edge fidelity confidence change: [0. 0. 0. 0. 0. 0. 0. 0. 0.] for sparsity [0. 0. 0. 0. 0. 0. 0. 0. 0.]\n",
      "Mask density: [0.]\n",
      "Sparsity, 0.0,0.0,0.0,0.0,0.0,0.0,0.0,0.0,0.0,\n",
      "Fidelity, 0.0,0.0,0.0,0.0,0.0,0.0,0.0,0.0,0.0,\n",
      "\n",
      "AUC computation:\n",
      " Number of false negatives found: 176\n",
      " Total number of edges in data:   116973\n",
      "AUC computation:\n",
      " Number of false negatives found: 198\n",
      " Total number of edges in data:   118945\n",
      "Evaluted [835, 907] samples with noise 30.0\n",
      "Average adj diff: [8.300598802395209]\n",
      "Average feat diff: [14.809580838323352]\n",
      "Average noise diff: [14.809580838323352]\n",
      "Average mAP: [0.43692966143328654]\n",
      "ROC AUC: 0.6291114925917968\n",
      "nDCG: [0.874236174113078]\n",
      "Reporting statistics\n",
      "Samples: 0\n",
      "Edge fidelity prediction change: [0. 0. 0. 0. 0. 0. 0. 0. 0.]\n",
      " Edge fidelity confidence change: [0. 0. 0. 0. 0. 0. 0. 0. 0.] for sparsity [0. 0. 0. 0. 0. 0. 0. 0. 0.]\n",
      "Mask density: [0.]\n",
      "Sparsity, 0.0,0.0,0.0,0.0,0.0,0.0,0.0,0.0,0.0,\n",
      "Fidelity, 0.0,0.0,0.0,0.0,0.0,0.0,0.0,0.0,0.0,\n",
      "\n",
      "AUC computation:\n",
      " Number of false negatives found: 198\n",
      " Total number of edges in data:   118945\n",
      "NOISE SUMMARY\n",
      "0, 0, [1742, 0]\n",
      "AUC computation:\n",
      " Number of false negatives found: 0\n",
      " Total number of edges in data:   106216\n",
      "0.05, 0, [1511, 231]\n",
      "AUC computation:\n",
      " Number of false negatives found: 18\n",
      " Total number of edges in data:   107779\n",
      "0.1, 0, [1227, 515]\n",
      "AUC computation:\n",
      " Number of false negatives found: 62\n",
      " Total number of edges in data:   109995\n",
      "0.15, 0, [1059, 683]\n",
      "AUC computation:\n",
      " Number of false negatives found: 120\n",
      " Total number of edges in data:   112184\n",
      "0.2, 0, [938, 804]\n",
      "AUC computation:\n",
      " Number of false negatives found: 150\n",
      " Total number of edges in data:   114550\n",
      "0.25, 0, [870, 872]\n",
      "AUC computation:\n",
      " Number of false negatives found: 176\n",
      " Total number of edges in data:   116973\n",
      "0.3, 0, [835, 907]\n",
      "AUC computation:\n",
      " Number of false negatives found: 198\n",
      " Total number of edges in data:   118945\n",
      "SUMMARY\n",
      "Sparsity, 0.0000,0.5268,0.7757,0.8337,0.8771,0.9316,0.9769,0.9999,1.0000,\n",
      "Fidelity, -0.0626,0.3138,0.3160,0.2807,0.2496,0.1971,0.1092,0.0007,0.0000,\n",
      "\n",
      "SPARSITY [0.0, 0.5267951659575943, 0.7756839743232617, 0.83365778394052, 0.877097623835475, 0.9316360183000291, 0.9768871752594424, 0.9999450645340022, 1.0]\n",
      "FIDELITY [-0.06263475361291905, 0.31384338541159534, 0.31599035397189085, 0.2807425886700539, 0.24956803292412436, 0.19710907156993, 0.10924905839661643, 0.0006598786084167445, 0.0]\n",
      "NOISE VALS [0, 0.05, 0.1, 0.15, 0.2, 0.25, 0.3]\n",
      "ROC AUC [0.8349412669885525, 0.7929944058095577, 0.7408112970284892, 0.6962033515136717, 0.6633770076071083, 0.6493384615004885, 0.6291114925917968]\n",
      "=========\n",
      "Average execution time (in seconds) 0.004225163180573526 std: 0.00015830890476749282\n",
      "Trainset == Testset, not evaluating test set\n",
      "Evaluating seed 1\n",
      "CUDA 1\n",
      "loading model\n",
      "ckpt/Mutagenicity/Mutagenicity_base_h20_o20.pth.tar\n",
      "=> loading checkpoint 'ckpt/Mutagenicity/Mutagenicity_base_h20_o20.pth.tar'\n"
     ]
    },
    {
     "name": "stderr",
     "output_type": "stream",
     "text": [
      "  0%|          | 1/1742 [00:00<04:21,  6.65it/s]"
     ]
    },
    {
     "name": "stdout",
     "output_type": "stream",
     "text": [
      "Loaded model from ckpt/Mutagenicity\n",
      "input dim:  14 ; num classes:  2\n",
      "Method:  base\n",
      "Graph indices for label  0  : \n",
      "loading initial explainer ckpt from :  saved_models/rcexp_mutag_seed_1_sparsity_1.0_logdir_RIGHT_HYPERPARAMS/rcexp_mutagexplainer_Mutagenicity_ep_0_seed_1_sparsity_1.0_RIGHT_HYPERPARMS.pth.tar\n",
      "Using AUC Metric: original\n",
      "Using AUC Metric: original\n",
      "Using AUC Metric: original\n",
      "Using AUC Metric: original\n",
      "Using AUC Metric: original\n",
      "Using AUC Metric: original\n",
      "Using AUC Metric: original\n",
      "sum of params of loaded explainer: -50.72296657413244\n",
      "sum of params of loaded model: -45.76451079547405\n"
     ]
    },
    {
     "name": "stderr",
     "output_type": "stream",
     "text": [
      "100%|██████████| 1742/1742 [04:20<00:00,  6.70it/s]\n"
     ]
    },
    {
     "name": "stdout",
     "output_type": "stream",
     "text": [
      "noise percent: 10.0, inverse noise: False\n",
      "avg removed edges: 0.0\n",
      "pred removed edges: 0.0\n",
      "avg added edges: 0.0\n",
      "avg adj diff: 0.0\n",
      "avg noise diff: 0.0\n",
      "avg pred diff: 0.0\n",
      "skipped iters: 0.0\n",
      "Average mask density: 0.4423778521679769\n",
      "pos diff: [0.5840365598758792 0.                ], inv diff: [0.6564063517425966 0.                ], k: 8.0, topk inv diff: [0.433570090925105 0.               ]\n",
      "Variance:  0.05762227322959437\n",
      "Flips:  [1742.    0.]\n",
      "inv Flips:  [1742.    0.]\n",
      "topk inv Flips:  [822.   0.]\n",
      "Incorrect preds:  177.0\n",
      "Total:  [1.742e+03 1.000e+00]\n",
      "Reporting statistics\n",
      "Samples: 1742\n",
      "Edge fidelity prediction change: [0.007462686567164179 0.4316877152698048   0.5258323765786452\n",
      " 0.46383467278989665  0.4242250287026406   0.3484500574052813\n",
      " 0.16819747416762343  0.000574052812858783 0.                  ]\n",
      " Edge fidelity confidence change: [-0.06263475361291905    0.3632695870612984     0.4369354080045264\n",
      "  0.3814758243024281     0.3446166584296013     0.2736050588357873\n",
      "  0.14523089003891404    0.0007212413164832972  0.                   ] for sparsity [0.                 0.5224658283656282 0.7739482613368095\n",
      " 0.8324500383588942 0.8761053315602269 0.9309749410634199\n",
      " 0.9756625472609677 0.9999450645340022 1.                ]\n",
      "Mask density: [0.]\n",
      "Sparsity, 0.0,0.5224658283656282,0.7739482613368095,0.8324500383588942,0.8761053315602269,0.9309749410634199,0.9756625472609677,0.9999450645340022,1.0,\n",
      "Fidelity, -0.06263475361291905,0.3632695870612984,0.4369354080045264,0.3814758243024281,0.3446166584296013,0.2736050588357873,0.14523089003891404,0.0007212413164832972,0.0,\n",
      "\n",
      "AUC computation:\n",
      " Number of false negatives found: 0\n",
      " Total number of edges in data:   106216\n",
      "Evaluted [1742, 0] samples with noise 0\n",
      "Average adj diff: [0.]\n",
      "Average feat diff: [0.]\n",
      "Average noise diff: [0.]\n",
      "Average mAP: [1.]\n",
      "ROC AUC: 0.8432990520706973\n",
      "nDCG: [1.]\n",
      "Reporting statistics\n",
      "Samples: 0\n",
      "Edge fidelity prediction change: [0. 0. 0. 0. 0. 0. 0. 0. 0.]\n",
      " Edge fidelity confidence change: [0. 0. 0. 0. 0. 0. 0. 0. 0.] for sparsity [0. 0. 0. 0. 0. 0. 0. 0. 0.]\n",
      "Mask density: [0.]\n",
      "Sparsity, 0.0,0.0,0.0,0.0,0.0,0.0,0.0,0.0,0.0,\n",
      "Fidelity, 0.0,0.0,0.0,0.0,0.0,0.0,0.0,0.0,0.0,\n",
      "\n",
      "AUC computation:\n",
      " Number of false negatives found: 0\n",
      " Total number of edges in data:   106216\n",
      "AUC computation:\n",
      " Number of false negatives found: 12\n",
      " Total number of edges in data:   107789\n",
      "Evaluted [1501, 241] samples with noise 5.0\n",
      "Average adj diff: [0.894070619586942]\n",
      "Average feat diff: [1.54163890739507]\n",
      "Average noise diff: [1.54163890739507]\n",
      "Average mAP: [0.8604671627068453]\n",
      "ROC AUC: 0.8113051219316156\n",
      "nDCG: [0.9806127548849827]\n",
      "Reporting statistics\n",
      "Samples: 0\n",
      "Edge fidelity prediction change: [0. 0. 0. 0. 0. 0. 0. 0. 0.]\n",
      " Edge fidelity confidence change: [0. 0. 0. 0. 0. 0. 0. 0. 0.] for sparsity [0. 0. 0. 0. 0. 0. 0. 0. 0.]\n",
      "Mask density: [0.]\n",
      "Sparsity, 0.0,0.0,0.0,0.0,0.0,0.0,0.0,0.0,0.0,\n",
      "Fidelity, 0.0,0.0,0.0,0.0,0.0,0.0,0.0,0.0,0.0,\n",
      "\n",
      "AUC computation:\n",
      " Number of false negatives found: 12\n",
      " Total number of edges in data:   107789\n",
      "AUC computation:\n",
      " Number of false negatives found: 62\n",
      " Total number of edges in data:   110030\n",
      "Evaluted [1225, 517] samples with noise 10.0\n",
      "Average adj diff: [2.3118367346938777]\n",
      "Average feat diff: [3.79265306122449]\n",
      "Average noise diff: [3.79265306122449]\n",
      "Average mAP: [0.7211732694696059]\n",
      "ROC AUC: 0.7746481205643159\n",
      "nDCG: [0.9563291379914177]\n",
      "Reporting statistics\n",
      "Samples: 0\n",
      "Edge fidelity prediction change: [0. 0. 0. 0. 0. 0. 0. 0. 0.]\n",
      " Edge fidelity confidence change: [0. 0. 0. 0. 0. 0. 0. 0. 0.] for sparsity [0. 0. 0. 0. 0. 0. 0. 0. 0.]\n",
      "Mask density: [0.]\n",
      "Sparsity, 0.0,0.0,0.0,0.0,0.0,0.0,0.0,0.0,0.0,\n",
      "Fidelity, 0.0,0.0,0.0,0.0,0.0,0.0,0.0,0.0,0.0,\n",
      "\n",
      "AUC computation:\n",
      " Number of false negatives found: 62\n",
      " Total number of edges in data:   110030\n",
      "AUC computation:\n",
      " Number of false negatives found: 98\n",
      " Total number of edges in data:   112315\n",
      "Evaluted [1062, 680] samples with noise 15.0\n",
      "Average adj diff: [3.8323917137476458]\n",
      "Average feat diff: [6.576271186440678]\n",
      "Average noise diff: [6.576271186440678]\n",
      "Average mAP: [0.6286775229922246]\n",
      "ROC AUC: 0.7437295617398687\n",
      "nDCG: [0.9376362944344727]\n",
      "Reporting statistics\n",
      "Samples: 0\n",
      "Edge fidelity prediction change: [0. 0. 0. 0. 0. 0. 0. 0. 0.]\n",
      " Edge fidelity confidence change: [0. 0. 0. 0. 0. 0. 0. 0. 0.] for sparsity [0. 0. 0. 0. 0. 0. 0. 0. 0.]\n",
      "Mask density: [0.]\n",
      "Sparsity, 0.0,0.0,0.0,0.0,0.0,0.0,0.0,0.0,0.0,\n",
      "Fidelity, 0.0,0.0,0.0,0.0,0.0,0.0,0.0,0.0,0.0,\n",
      "\n",
      "AUC computation:\n",
      " Number of false negatives found: 98\n",
      " Total number of edges in data:   112315\n",
      "AUC computation:\n",
      " Number of false negatives found: 140\n",
      " Total number of edges in data:   114931\n",
      "Evaluted [929, 813] samples with noise 20.0\n",
      "Average adj diff: [5.432723358449946]\n",
      "Average feat diff: [9.403659849300324]\n",
      "Average noise diff: [9.403659849300324]\n",
      "Average mAP: [0.5521566635463308]\n",
      "ROC AUC: 0.7087959398139635\n",
      "nDCG: [0.920322753363314]\n",
      "Reporting statistics\n",
      "Samples: 0\n",
      "Edge fidelity prediction change: [0. 0. 0. 0. 0. 0. 0. 0. 0.]\n",
      " Edge fidelity confidence change: [0. 0. 0. 0. 0. 0. 0. 0. 0.] for sparsity [0. 0. 0. 0. 0. 0. 0. 0. 0.]\n",
      "Mask density: [0.]\n",
      "Sparsity, 0.0,0.0,0.0,0.0,0.0,0.0,0.0,0.0,0.0,\n",
      "Fidelity, 0.0,0.0,0.0,0.0,0.0,0.0,0.0,0.0,0.0,\n",
      "\n",
      "AUC computation:\n",
      " Number of false negatives found: 140\n",
      " Total number of edges in data:   114931\n",
      "AUC computation:\n",
      " Number of false negatives found: 178\n",
      " Total number of edges in data:   116898\n",
      "Evaluted [878, 864] samples with noise 25.0\n",
      "Average adj diff: [6.826879271070615]\n",
      "Average feat diff: [12.328018223234624]\n",
      "Average noise diff: [12.328018223234624]\n",
      "Average mAP: [0.5107496821035638]\n",
      "ROC AUC: 0.689767085967857\n",
      "nDCG: [0.9100802561836955]\n",
      "Reporting statistics\n",
      "Samples: 0\n",
      "Edge fidelity prediction change: [0. 0. 0. 0. 0. 0. 0. 0. 0.]\n",
      " Edge fidelity confidence change: [0. 0. 0. 0. 0. 0. 0. 0. 0.] for sparsity [0. 0. 0. 0. 0. 0. 0. 0. 0.]\n",
      "Mask density: [0.]\n",
      "Sparsity, 0.0,0.0,0.0,0.0,0.0,0.0,0.0,0.0,0.0,\n",
      "Fidelity, 0.0,0.0,0.0,0.0,0.0,0.0,0.0,0.0,0.0,\n",
      "\n",
      "AUC computation:\n",
      " Number of false negatives found: 178\n",
      " Total number of edges in data:   116898\n",
      "AUC computation:\n",
      " Number of false negatives found: 198\n",
      " Total number of edges in data:   118881\n",
      "Evaluted [846, 896] samples with noise 30.0\n",
      "Average adj diff: [8.013002364066194]\n",
      "Average feat diff: [14.78014184397163]\n",
      "Average noise diff: [14.78014184397163]\n",
      "Average mAP: [0.4738743750288722]\n",
      "ROC AUC: 0.6785438427661004\n",
      "nDCG: [0.9004581515269867]\n",
      "Reporting statistics\n",
      "Samples: 0\n",
      "Edge fidelity prediction change: [0. 0. 0. 0. 0. 0. 0. 0. 0.]\n",
      " Edge fidelity confidence change: [0. 0. 0. 0. 0. 0. 0. 0. 0.] for sparsity [0. 0. 0. 0. 0. 0. 0. 0. 0.]\n",
      "Mask density: [0.]\n",
      "Sparsity, 0.0,0.0,0.0,0.0,0.0,0.0,0.0,0.0,0.0,\n",
      "Fidelity, 0.0,0.0,0.0,0.0,0.0,0.0,0.0,0.0,0.0,\n",
      "\n",
      "AUC computation:\n",
      " Number of false negatives found: 198\n",
      " Total number of edges in data:   118881\n",
      "NOISE SUMMARY\n",
      "0, 0, [1742, 0]\n",
      "AUC computation:\n",
      " Number of false negatives found: 0\n",
      " Total number of edges in data:   106216\n",
      "0.05, 0, [1501, 241]\n",
      "AUC computation:\n",
      " Number of false negatives found: 12\n",
      " Total number of edges in data:   107789\n",
      "0.1, 0, [1225, 517]\n",
      "AUC computation:\n",
      " Number of false negatives found: 62\n",
      " Total number of edges in data:   110030\n",
      "0.15, 0, [1062, 680]\n",
      "AUC computation:\n",
      " Number of false negatives found: 98\n",
      " Total number of edges in data:   112315\n",
      "0.2, 0, [929, 813]\n",
      "AUC computation:\n",
      " Number of false negatives found: 140\n",
      " Total number of edges in data:   114931\n",
      "0.25, 0, [878, 864]\n",
      "AUC computation:\n",
      " Number of false negatives found: 178\n",
      " Total number of edges in data:   116898\n",
      "0.3, 0, [846, 896]\n",
      "AUC computation:\n",
      " Number of false negatives found: 198\n",
      " Total number of edges in data:   118881\n",
      "SUMMARY\n",
      "Sparsity, 0.0000,0.5225,0.7739,0.8325,0.8761,0.9310,0.9757,0.9999,1.0000,\n",
      "Fidelity, -0.0626,0.3633,0.4369,0.3815,0.3446,0.2736,0.1452,0.0007,0.0000,\n",
      "\n",
      "SPARSITY [0.0, 0.5224658283656282, 0.7739482613368095, 0.8324500383588942, 0.8761053315602269, 0.9309749410634199, 0.9756625472609677, 0.9999450645340022, 1.0]\n",
      "FIDELITY [-0.06263475361291905, 0.3632695870612984, 0.4369354080045264, 0.3814758243024281, 0.3446166584296013, 0.2736050588357873, 0.14523089003891404, 0.0007212413164832972, 0.0]\n",
      "NOISE VALS [0, 0.05, 0.1, 0.15, 0.2, 0.25, 0.3]\n",
      "ROC AUC [0.8432990520706973, 0.8113051219316156, 0.7746481205643159, 0.7437295617398687, 0.7087959398139635, 0.689767085967857, 0.6785438427661004]\n",
      "=========\n",
      "Average execution time (in seconds) 0.00421798680871554 std: 0.0001442191785116828\n",
      "Trainset == Testset, not evaluating test set\n",
      "Evaluating seed 3\n",
      "Skipping rcexp with seed 3 and sparsity 1.0\n",
      "Cannot find model in saved_models/rcexp_mutag_seed_3_sparsity_1.0_logdir_RIGHT_HYPERPARAMS/rcexp_mutagexplainer_Mutagenicity_ep_0_seed_3_sparsity_1.0_RIGHT_HYPERPARAMS.pth.tar\n",
      "Evaluating seed 5\n",
      "Skipping rcexp with seed 5 and sparsity 1.0\n",
      "Cannot find model in saved_models/rcexp_mutag_seed_5_sparsity_1.0_logdir_RIGHT_HYPERPARAMS/rcexp_mutagexplainer_Mutagenicity_ep_0_seed_5_sparsity_1.0_RIGHT_HYPERPARAMS.pth.tar\n",
      "Evaluating seed 8\n",
      "Skipping rcexp with seed 8 and sparsity 1.0\n",
      "Cannot find model in saved_models/rcexp_mutag_seed_8_sparsity_1.0_logdir_RIGHT_HYPERPARAMS/rcexp_mutagexplainer_Mutagenicity_ep_0_seed_8_sparsity_1.0_RIGHT_HYPERPARAMS.pth.tar\n",
      "Evaluating seed 10\n",
      "Skipping rcexp with seed 10 and sparsity 1.0\n",
      "Cannot find model in saved_models/rcexp_mutag_seed_10_sparsity_1.0_logdir_RIGHT_HYPERPARAMS/rcexp_mutagexplainer_Mutagenicity_ep_0_seed_10_sparsity_1.0_RIGHT_HYPERPARAMS.pth.tar\n",
      "Evaluating seed 15\n",
      "Skipping rcexp with seed 15 and sparsity 1.0\n",
      "Cannot find model in saved_models/rcexp_mutag_seed_15_sparsity_1.0_logdir_RIGHT_HYPERPARAMS/rcexp_mutagexplainer_Mutagenicity_ep_0_seed_15_sparsity_1.0_RIGHT_HYPERPARAMS.pth.tar\n",
      "Evaluating seed 42\n",
      "Skipping rcexp with seed 42 and sparsity 1.0\n",
      "Cannot find model in saved_models/rcexp_mutag_seed_42_sparsity_1.0_logdir_RIGHT_HYPERPARAMS/rcexp_mutagexplainer_Mutagenicity_ep_0_seed_42_sparsity_1.0_RIGHT_HYPERPARAMS.pth.tar\n",
      "Evaluating seed 69\n",
      "Skipping rcexp with seed 69 and sparsity 1.0\n",
      "Cannot find model in saved_models/rcexp_mutag_seed_69_sparsity_1.0_logdir_RIGHT_HYPERPARAMS/rcexp_mutagexplainer_Mutagenicity_ep_0_seed_69_sparsity_1.0_RIGHT_HYPERPARAMS.pth.tar\n",
      "Evaluating seed 101\n",
      "Skipping rcexp with seed 101 and sparsity 1.0\n",
      "Cannot find model in saved_models/rcexp_mutag_seed_101_sparsity_1.0_logdir_RIGHT_HYPERPARAMS/rcexp_mutagexplainer_Mutagenicity_ep_0_seed_101_sparsity_1.0_RIGHT_HYPERPARAMS.pth.tar\n",
      "Evaluating model rcexp_noldb\n",
      "Evaluating sparsity 0.8\n",
      "Evaluating seed 0\n",
      "CUDA 1\n",
      "loading model\n",
      "ckpt/Mutagenicity/Mutagenicity_base_h20_o20.pth.tar\n",
      "=> loading checkpoint 'ckpt/Mutagenicity/Mutagenicity_base_h20_o20.pth.tar'\n"
     ]
    },
    {
     "name": "stderr",
     "output_type": "stream",
     "text": [
      "  0%|          | 1/1393 [00:00<03:24,  6.82it/s]"
     ]
    },
    {
     "name": "stdout",
     "output_type": "stream",
     "text": [
      "Loaded model from ckpt/Mutagenicity\n",
      "input dim:  14 ; num classes:  2\n",
      "Method:  base\n",
      "Graph indices for label  0  : \n",
      "loading initial explainer ckpt from :  saved_models/rcexp_noldb_mutag_seed_0_sparsity_0.8_logdir_RIGHT_HYPERPARAMS/rcexp_noldb_mutagexplainer_Mutagenicity_ep_0_seed_0_sparsity_0.8_RIGHT_HYPERPARMS.pth.tar\n",
      "Using AUC Metric: original\n",
      "Using AUC Metric: original\n",
      "Using AUC Metric: original\n",
      "Using AUC Metric: original\n",
      "Using AUC Metric: original\n",
      "Using AUC Metric: original\n",
      "Using AUC Metric: original\n",
      "sum of params of loaded explainer: -46.83673540735617\n",
      "sum of params of loaded model: -45.76451079547405\n"
     ]
    },
    {
     "name": "stderr",
     "output_type": "stream",
     "text": [
      "100%|██████████| 1393/1393 [03:26<00:00,  6.75it/s]\n"
     ]
    },
    {
     "name": "stdout",
     "output_type": "stream",
     "text": [
      "noise percent: 10.0, inverse noise: False\n",
      "avg removed edges: 0.0\n",
      "pred removed edges: 0.0\n",
      "avg added edges: 0.0\n",
      "avg adj diff: 0.0\n",
      "avg noise diff: 0.0\n",
      "avg pred diff: 0.0\n",
      "skipped iters: 0.0\n",
      "Average mask density: 0.5116757691431164\n",
      "pos diff: [0.6236469943533677 0.                ], inv diff: [0.6350180442095317 0.                ], k: 8.0, topk inv diff: [0.21053323102613533 0.                 ]\n",
      "Variance:  0.01225922153252084\n",
      "Flips:  [1393.    0.]\n",
      "inv Flips:  [1393.    0.]\n",
      "topk inv Flips:  [1015.    0.]\n",
      "Incorrect preds:  137.0\n",
      "Total:  [1.393e+03 1.000e+00]\n",
      "Reporting statistics\n",
      "Samples: 1393\n",
      "Edge fidelity prediction change: [0.007178750897343862 0.28427853553481697  0.28786791098348885\n",
      " 0.271356783919598    0.2455132806891601   0.19095477386934673\n",
      " 0.08614501076812635  0.                   0.                  ]\n",
      " Edge fidelity confidence change: [-6.3789380897486370e-02  2.3553010645908840e-01  2.3211782096703962e-01\n",
      "  2.1702835832408923e-01  1.8789226214661500e-01  1.4407457626302381e-01\n",
      "  6.3150856384508749e-02  1.9886064940190367e-04  0.0000000000000000e+00] for sparsity [0.                 0.5276819345168903 0.7783333567176375\n",
      " 0.8374825803307604 0.8802968279030027 0.9331487140378247\n",
      " 0.9773629922192472 0.9999518130463999 1.                ]\n",
      "Mask density: [0.]\n",
      "Sparsity, 0.0,0.5276819345168903,0.7783333567176375,0.8374825803307604,0.8802968279030027,0.9331487140378247,0.9773629922192472,0.9999518130463999,1.0,\n",
      "Fidelity, -0.06378938089748637,0.2355301064590884,0.23211782096703962,0.21702835832408923,0.187892262146615,0.1440745762630238,0.06315085638450875,0.00019886064940190367,0.0,\n",
      "\n",
      "AUC computation:\n",
      " Number of false negatives found: 0\n",
      " Total number of edges in data:   85018\n",
      "Evaluted [1393, 0] samples with noise 0\n",
      "Average adj diff: [0.]\n",
      "Average feat diff: [0.]\n",
      "Average noise diff: [0.]\n",
      "Average mAP: [1.]\n",
      "ROC AUC: 0.878158225618284\n",
      "nDCG: [1.]\n",
      "Reporting statistics\n",
      "Samples: 0\n",
      "Edge fidelity prediction change: [0. 0. 0. 0. 0. 0. 0. 0. 0.]\n",
      " Edge fidelity confidence change: [0. 0. 0. 0. 0. 0. 0. 0. 0.] for sparsity [0. 0. 0. 0. 0. 0. 0. 0. 0.]\n",
      "Mask density: [0.]\n",
      "Sparsity, 0.0,0.0,0.0,0.0,0.0,0.0,0.0,0.0,0.0,\n",
      "Fidelity, 0.0,0.0,0.0,0.0,0.0,0.0,0.0,0.0,0.0,\n",
      "\n",
      "AUC computation:\n",
      " Number of false negatives found: 0\n",
      " Total number of edges in data:   85018\n",
      "AUC computation:\n",
      " Number of false negatives found: 18\n",
      " Total number of edges in data:   86271\n",
      "Evaluted [1200, 193] samples with noise 5.0\n",
      "Average adj diff: [0.9508333333333333]\n",
      "Average feat diff: [1.4733333333333334]\n",
      "Average noise diff: [1.4733333333333334]\n",
      "Average mAP: [0.8208313301920568]\n",
      "ROC AUC: 0.8198805413196728\n",
      "nDCG: [0.9711765516062069]\n",
      "Reporting statistics\n",
      "Samples: 0\n",
      "Edge fidelity prediction change: [0. 0. 0. 0. 0. 0. 0. 0. 0.]\n",
      " Edge fidelity confidence change: [0. 0. 0. 0. 0. 0. 0. 0. 0.] for sparsity [0. 0. 0. 0. 0. 0. 0. 0. 0.]\n",
      "Mask density: [0.]\n",
      "Sparsity, 0.0,0.0,0.0,0.0,0.0,0.0,0.0,0.0,0.0,\n",
      "Fidelity, 0.0,0.0,0.0,0.0,0.0,0.0,0.0,0.0,0.0,\n",
      "\n",
      "AUC computation:\n",
      " Number of false negatives found: 18\n",
      " Total number of edges in data:   86271\n",
      "AUC computation:\n",
      " Number of false negatives found: 44\n",
      " Total number of edges in data:   88152\n",
      "Evaluted [984, 409] samples with noise 10.0\n",
      "Average adj diff: [2.4166666666666665]\n",
      "Average feat diff: [3.9613821138211383]\n",
      "Average noise diff: [3.9613821138211383]\n",
      "Average mAP: [0.6505008908963188]\n",
      "ROC AUC: 0.7458583623381517\n",
      "nDCG: [0.9345417316510559]\n",
      "Reporting statistics\n",
      "Samples: 0\n",
      "Edge fidelity prediction change: [0. 0. 0. 0. 0. 0. 0. 0. 0.]\n",
      " Edge fidelity confidence change: [0. 0. 0. 0. 0. 0. 0. 0. 0.] for sparsity [0. 0. 0. 0. 0. 0. 0. 0. 0.]\n",
      "Mask density: [0.]\n",
      "Sparsity, 0.0,0.0,0.0,0.0,0.0,0.0,0.0,0.0,0.0,\n",
      "Fidelity, 0.0,0.0,0.0,0.0,0.0,0.0,0.0,0.0,0.0,\n",
      "\n",
      "AUC computation:\n",
      " Number of false negatives found: 44\n",
      " Total number of edges in data:   88152\n",
      "AUC computation:\n",
      " Number of false negatives found: 80\n",
      " Total number of edges in data:   89762\n",
      "Evaluted [854, 539] samples with noise 15.0\n",
      "Average adj diff: [3.740046838407494]\n",
      "Average feat diff: [6.786885245901639]\n",
      "Average noise diff: [6.786885245901639]\n",
      "Average mAP: [0.5445829497731478]\n",
      "ROC AUC: 0.6979328660919113\n",
      "nDCG: [0.9087584410109838]\n",
      "Reporting statistics\n",
      "Samples: 0\n",
      "Edge fidelity prediction change: [0. 0. 0. 0. 0. 0. 0. 0. 0.]\n",
      " Edge fidelity confidence change: [0. 0. 0. 0. 0. 0. 0. 0. 0.] for sparsity [0. 0. 0. 0. 0. 0. 0. 0. 0.]\n",
      "Mask density: [0.]\n",
      "Sparsity, 0.0,0.0,0.0,0.0,0.0,0.0,0.0,0.0,0.0,\n",
      "Fidelity, 0.0,0.0,0.0,0.0,0.0,0.0,0.0,0.0,0.0,\n",
      "\n",
      "AUC computation:\n",
      " Number of false negatives found: 80\n",
      " Total number of edges in data:   89762\n",
      "AUC computation:\n",
      " Number of false negatives found: 106\n",
      " Total number of edges in data:   91552\n",
      "Evaluted [730, 663] samples with noise 20.0\n",
      "Average adj diff: [5.021917808219178]\n",
      "Average feat diff: [9.04109589041096]\n",
      "Average noise diff: [9.04109589041096]\n",
      "Average mAP: [0.4792408144474065]\n",
      "ROC AUC: 0.6650788827745858\n",
      "nDCG: [0.8889955548960808]\n",
      "Reporting statistics\n",
      "Samples: 0\n",
      "Edge fidelity prediction change: [0. 0. 0. 0. 0. 0. 0. 0. 0.]\n",
      " Edge fidelity confidence change: [0. 0. 0. 0. 0. 0. 0. 0. 0.] for sparsity [0. 0. 0. 0. 0. 0. 0. 0. 0.]\n",
      "Mask density: [0.]\n",
      "Sparsity, 0.0,0.0,0.0,0.0,0.0,0.0,0.0,0.0,0.0,\n",
      "Fidelity, 0.0,0.0,0.0,0.0,0.0,0.0,0.0,0.0,0.0,\n",
      "\n",
      "AUC computation:\n",
      " Number of false negatives found: 106\n",
      " Total number of edges in data:   91552\n",
      "AUC computation:\n",
      " Number of false negatives found: 134\n",
      " Total number of edges in data:   93446\n",
      "Evaluted [706, 687] samples with noise 25.0\n",
      "Average adj diff: [6.610481586402266]\n",
      "Average feat diff: [12.351274787535411]\n",
      "Average noise diff: [12.351274787535411]\n",
      "Average mAP: [0.4325832548674935]\n",
      "ROC AUC: 0.6340063282397661\n",
      "nDCG: [0.8757914378747556]\n",
      "Reporting statistics\n",
      "Samples: 0\n",
      "Edge fidelity prediction change: [0. 0. 0. 0. 0. 0. 0. 0. 0.]\n",
      " Edge fidelity confidence change: [0. 0. 0. 0. 0. 0. 0. 0. 0.] for sparsity [0. 0. 0. 0. 0. 0. 0. 0. 0.]\n",
      "Mask density: [0.]\n",
      "Sparsity, 0.0,0.0,0.0,0.0,0.0,0.0,0.0,0.0,0.0,\n",
      "Fidelity, 0.0,0.0,0.0,0.0,0.0,0.0,0.0,0.0,0.0,\n",
      "\n",
      "AUC computation:\n",
      " Number of false negatives found: 134\n",
      " Total number of edges in data:   93446\n",
      "AUC computation:\n",
      " Number of false negatives found: 178\n",
      " Total number of edges in data:   95229\n",
      "Evaluted [669, 724] samples with noise 30.0\n",
      "Average adj diff: [8.231689088191331]\n",
      "Average feat diff: [14.840059790732436]\n",
      "Average noise diff: [14.840059790732436]\n",
      "Average mAP: [0.39917399820954136]\n",
      "ROC AUC: 0.6160527295890116\n",
      "nDCG: [0.863607201815911]\n",
      "Reporting statistics\n",
      "Samples: 0\n",
      "Edge fidelity prediction change: [0. 0. 0. 0. 0. 0. 0. 0. 0.]\n",
      " Edge fidelity confidence change: [0. 0. 0. 0. 0. 0. 0. 0. 0.] for sparsity [0. 0. 0. 0. 0. 0. 0. 0. 0.]\n",
      "Mask density: [0.]\n",
      "Sparsity, 0.0,0.0,0.0,0.0,0.0,0.0,0.0,0.0,0.0,\n",
      "Fidelity, 0.0,0.0,0.0,0.0,0.0,0.0,0.0,0.0,0.0,\n",
      "\n",
      "AUC computation:\n",
      " Number of false negatives found: 178\n",
      " Total number of edges in data:   95229\n",
      "NOISE SUMMARY\n",
      "0, 0, [1393, 0]\n",
      "AUC computation:\n",
      " Number of false negatives found: 0\n",
      " Total number of edges in data:   85018\n",
      "0.05, 0, [1200, 193]\n",
      "AUC computation:\n",
      " Number of false negatives found: 18\n",
      " Total number of edges in data:   86271\n",
      "0.1, 0, [984, 409]\n",
      "AUC computation:\n",
      " Number of false negatives found: 44\n",
      " Total number of edges in data:   88152\n",
      "0.15, 0, [854, 539]\n",
      "AUC computation:\n",
      " Number of false negatives found: 80\n",
      " Total number of edges in data:   89762\n",
      "0.2, 0, [730, 663]\n",
      "AUC computation:\n",
      " Number of false negatives found: 106\n",
      " Total number of edges in data:   91552\n",
      "0.25, 0, [706, 687]\n",
      "AUC computation:\n",
      " Number of false negatives found: 134\n",
      " Total number of edges in data:   93446\n",
      "0.3, 0, [669, 724]\n",
      "AUC computation:\n",
      " Number of false negatives found: 178\n",
      " Total number of edges in data:   95229\n"
     ]
    },
    {
     "name": "stderr",
     "output_type": "stream",
     "text": [
      "  0%|          | 1/349 [00:00<00:52,  6.65it/s]"
     ]
    },
    {
     "name": "stdout",
     "output_type": "stream",
     "text": [
      "SUMMARY\n",
      "Sparsity, 0.0000,0.5277,0.7783,0.8375,0.8803,0.9331,0.9774,1.0000,1.0000,\n",
      "Fidelity, -0.0638,0.2355,0.2321,0.2170,0.1879,0.1441,0.0632,0.0002,0.0000,\n",
      "\n",
      "SPARSITY [0.0, 0.5276819345168903, 0.7783333567176375, 0.8374825803307604, 0.8802968279030027, 0.9331487140378247, 0.9773629922192472, 0.9999518130463999, 1.0]\n",
      "FIDELITY [-0.06378938089748637, 0.2355301064590884, 0.23211782096703962, 0.21702835832408923, 0.187892262146615, 0.1440745762630238, 0.06315085638450875, 0.00019886064940190367, 0.0]\n",
      "NOISE VALS [0, 0.05, 0.1, 0.15, 0.2, 0.25, 0.3]\n",
      "ROC AUC [0.878158225618284, 0.8198805413196728, 0.7458583623381517, 0.6979328660919113, 0.6650788827745858, 0.6340063282397661, 0.6160527295890116]\n",
      "=========\n",
      "Average execution time (in seconds) 0.004125572671500026 std: 0.00015965749465724147\n",
      "Using AUC Metric: original\n",
      "Using AUC Metric: original\n",
      "Using AUC Metric: original\n",
      "Using AUC Metric: original\n",
      "Using AUC Metric: original\n",
      "Using AUC Metric: original\n",
      "Using AUC Metric: original\n",
      "sum of params of loaded explainer: -46.83673540735617\n",
      "sum of params of loaded model: -45.76451079547405\n"
     ]
    },
    {
     "name": "stderr",
     "output_type": "stream",
     "text": [
      "100%|██████████| 349/349 [00:51<00:00,  6.78it/s]\n"
     ]
    },
    {
     "name": "stdout",
     "output_type": "stream",
     "text": [
      "noise percent: 10.0, inverse noise: False\n",
      "avg removed edges: 0.0\n",
      "pred removed edges: 0.0\n",
      "avg added edges: 0.0\n",
      "avg adj diff: 0.0\n",
      "avg noise diff: 0.0\n",
      "avg pred diff: 0.0\n",
      "skipped iters: 0.0\n",
      "Average mask density: 0.5112919809612837\n",
      "pos diff: [0.563719440838669 0.               ], inv diff: [0.5696041292823146 0.                ], k: 8.0, topk inv diff: [0.19585070748383815 0.                 ]\n",
      "Variance:  0.011934408161617456\n",
      "Flips:  [349.   0.]\n",
      "inv Flips:  [349.   0.]\n",
      "topk inv Flips:  [264.   0.]\n",
      "Incorrect preds:  40.0\n",
      "Total:  [349.   1.]\n",
      "Reporting statistics\n",
      "Samples: 349\n",
      "Edge fidelity prediction change: [0.008595988538681949 0.29512893982808025  0.28939828080229224\n",
      " 0.2664756446991404   0.22349570200573066  0.19484240687679083\n",
      " 0.09455587392550144  0.                   0.                  ]\n",
      " Edge fidelity confidence change: [-0.05802616963755435    0.24066655196911285    0.23713442871085552\n",
      "  0.20956765051215973    0.1851925820026835     0.14091998458250204\n",
      "  0.071123649107351      0.0012316638897346562  0.                   ] for sparsity [0.                 0.5329189297121371 0.779638742990685\n",
      " 0.8385308347322196 0.8798823633303273 0.934782346032752\n",
      " 0.976979443883486  0.9999451599694937 1.                ]\n",
      "Mask density: [0.]\n",
      "Sparsity, 0.0,0.5329189297121371,0.779638742990685,0.8385308347322196,0.8798823633303273,0.934782346032752,0.976979443883486,0.9999451599694937,1.0,\n",
      "Fidelity, -0.05802616963755435,0.24066655196911285,0.23713442871085552,0.20956765051215973,0.1851925820026835,0.14091998458250204,0.071123649107351,0.0012316638897346562,0.0,\n",
      "\n",
      "AUC computation:\n",
      " Number of false negatives found: 0\n",
      " Total number of edges in data:   21198\n",
      "Evaluted [349, 0] samples with noise 0\n",
      "Average adj diff: [0.]\n",
      "Average feat diff: [0.]\n",
      "Average noise diff: [0.]\n",
      "Average mAP: [1.]\n",
      "ROC AUC: 0.8826221288465952\n",
      "nDCG: [1.]\n",
      "Reporting statistics\n",
      "Samples: 0\n",
      "Edge fidelity prediction change: [0. 0. 0. 0. 0. 0. 0. 0. 0.]\n",
      " Edge fidelity confidence change: [0. 0. 0. 0. 0. 0. 0. 0. 0.] for sparsity [0. 0. 0. 0. 0. 0. 0. 0. 0.]\n",
      "Mask density: [0.]\n",
      "Sparsity, 0.0,0.0,0.0,0.0,0.0,0.0,0.0,0.0,0.0,\n",
      "Fidelity, 0.0,0.0,0.0,0.0,0.0,0.0,0.0,0.0,0.0,\n",
      "\n",
      "AUC computation:\n",
      " Number of false negatives found: 0\n",
      " Total number of edges in data:   21198\n",
      "AUC computation:\n",
      " Number of false negatives found: 10\n",
      " Total number of edges in data:   21495\n",
      "Evaluted [304, 45] samples with noise 5.0\n",
      "Average adj diff: [0.9802631578947368]\n",
      "Average feat diff: [1.5526315789473684]\n",
      "Average noise diff: [1.5526315789473684]\n",
      "Average mAP: [0.8063684543688073]\n",
      "ROC AUC: 0.8239606439964249\n",
      "nDCG: [0.9689715444031356]\n",
      "Reporting statistics\n",
      "Samples: 0\n",
      "Edge fidelity prediction change: [0. 0. 0. 0. 0. 0. 0. 0. 0.]\n",
      " Edge fidelity confidence change: [0. 0. 0. 0. 0. 0. 0. 0. 0.] for sparsity [0. 0. 0. 0. 0. 0. 0. 0. 0.]\n",
      "Mask density: [0.]\n",
      "Sparsity, 0.0,0.0,0.0,0.0,0.0,0.0,0.0,0.0,0.0,\n",
      "Fidelity, 0.0,0.0,0.0,0.0,0.0,0.0,0.0,0.0,0.0,\n",
      "\n",
      "AUC computation:\n",
      " Number of false negatives found: 10\n",
      " Total number of edges in data:   21495\n",
      "AUC computation:\n",
      " Number of false negatives found: 12\n",
      " Total number of edges in data:   21877\n",
      "Evaluted [247, 102] samples with noise 10.0\n",
      "Average adj diff: [2.1983805668016196]\n",
      "Average feat diff: [4.080971659919029]\n",
      "Average noise diff: [4.080971659919029]\n",
      "Average mAP: [0.6567415889249023]\n",
      "ROC AUC: 0.763044556035301\n",
      "nDCG: [0.934923266018143]\n",
      "Reporting statistics\n",
      "Samples: 0\n",
      "Edge fidelity prediction change: [0. 0. 0. 0. 0. 0. 0. 0. 0.]\n",
      " Edge fidelity confidence change: [0. 0. 0. 0. 0. 0. 0. 0. 0.] for sparsity [0. 0. 0. 0. 0. 0. 0. 0. 0.]\n",
      "Mask density: [0.]\n",
      "Sparsity, 0.0,0.0,0.0,0.0,0.0,0.0,0.0,0.0,0.0,\n",
      "Fidelity, 0.0,0.0,0.0,0.0,0.0,0.0,0.0,0.0,0.0,\n",
      "\n",
      "AUC computation:\n",
      " Number of false negatives found: 12\n",
      " Total number of edges in data:   21877\n",
      "AUC computation:\n",
      " Number of false negatives found: 18\n",
      " Total number of edges in data:   22416\n",
      "Evaluted [213, 136] samples with noise 15.0\n",
      "Average adj diff: [3.516431924882629]\n",
      "Average feat diff: [5.981220657276995]\n",
      "Average noise diff: [5.981220657276995]\n",
      "Average mAP: [0.5716794255940588]\n",
      "ROC AUC: 0.7160305188283066\n",
      "nDCG: [0.9130155268558731]\n",
      "Reporting statistics\n",
      "Samples: 0\n",
      "Edge fidelity prediction change: [0. 0. 0. 0. 0. 0. 0. 0. 0.]\n",
      " Edge fidelity confidence change: [0. 0. 0. 0. 0. 0. 0. 0. 0.] for sparsity [0. 0. 0. 0. 0. 0. 0. 0. 0.]\n",
      "Mask density: [0.]\n",
      "Sparsity, 0.0,0.0,0.0,0.0,0.0,0.0,0.0,0.0,0.0,\n",
      "Fidelity, 0.0,0.0,0.0,0.0,0.0,0.0,0.0,0.0,0.0,\n",
      "\n",
      "AUC computation:\n",
      " Number of false negatives found: 18\n",
      " Total number of edges in data:   22416\n",
      "AUC computation:\n",
      " Number of false negatives found: 30\n",
      " Total number of edges in data:   23036\n",
      "Evaluted [176, 173] samples with noise 20.0\n",
      "Average adj diff: [5.267045454545454]\n",
      "Average feat diff: [8.443181818181818]\n",
      "Average noise diff: [8.443181818181818]\n",
      "Average mAP: [0.4838799705927381]\n",
      "ROC AUC: 0.6693578398116369\n",
      "nDCG: [0.8872956371705307]\n",
      "Reporting statistics\n",
      "Samples: 0\n",
      "Edge fidelity prediction change: [0. 0. 0. 0. 0. 0. 0. 0. 0.]\n",
      " Edge fidelity confidence change: [0. 0. 0. 0. 0. 0. 0. 0. 0.] for sparsity [0. 0. 0. 0. 0. 0. 0. 0. 0.]\n",
      "Mask density: [0.]\n",
      "Sparsity, 0.0,0.0,0.0,0.0,0.0,0.0,0.0,0.0,0.0,\n",
      "Fidelity, 0.0,0.0,0.0,0.0,0.0,0.0,0.0,0.0,0.0,\n",
      "\n",
      "AUC computation:\n",
      " Number of false negatives found: 30\n",
      " Total number of edges in data:   23036\n",
      "AUC computation:\n",
      " Number of false negatives found: 56\n",
      " Total number of edges in data:   23301\n",
      "Evaluted [168, 181] samples with noise 25.0\n",
      "Average adj diff: [6.773809523809524]\n",
      "Average feat diff: [12.333333333333334]\n",
      "Average noise diff: [12.333333333333334]\n",
      "Average mAP: [0.44345409735360425]\n",
      "ROC AUC: 0.6403550495986603\n",
      "nDCG: [0.8786994771824287]\n",
      "Reporting statistics\n",
      "Samples: 0\n",
      "Edge fidelity prediction change: [0. 0. 0. 0. 0. 0. 0. 0. 0.]\n",
      " Edge fidelity confidence change: [0. 0. 0. 0. 0. 0. 0. 0. 0.] for sparsity [0. 0. 0. 0. 0. 0. 0. 0. 0.]\n",
      "Mask density: [0.]\n",
      "Sparsity, 0.0,0.0,0.0,0.0,0.0,0.0,0.0,0.0,0.0,\n",
      "Fidelity, 0.0,0.0,0.0,0.0,0.0,0.0,0.0,0.0,0.0,\n",
      "\n",
      "AUC computation:\n",
      " Number of false negatives found: 56\n",
      " Total number of edges in data:   23301\n",
      "AUC computation:\n",
      " Number of false negatives found: 42\n",
      " Total number of edges in data:   23628\n",
      "Evaluted [170, 179] samples with noise 30.0\n",
      "Average adj diff: [7.758823529411765]\n",
      "Average feat diff: [14.447058823529412]\n",
      "Average noise diff: [14.447058823529412]\n",
      "Average mAP: [0.4062008837571816]\n",
      "ROC AUC: 0.6236030743847996\n",
      "nDCG: [0.8637865919111533]\n",
      "Reporting statistics\n",
      "Samples: 0\n",
      "Edge fidelity prediction change: [0. 0. 0. 0. 0. 0. 0. 0. 0.]\n",
      " Edge fidelity confidence change: [0. 0. 0. 0. 0. 0. 0. 0. 0.] for sparsity [0. 0. 0. 0. 0. 0. 0. 0. 0.]\n",
      "Mask density: [0.]\n",
      "Sparsity, 0.0,0.0,0.0,0.0,0.0,0.0,0.0,0.0,0.0,\n",
      "Fidelity, 0.0,0.0,0.0,0.0,0.0,0.0,0.0,0.0,0.0,\n",
      "\n",
      "AUC computation:\n",
      " Number of false negatives found: 42\n",
      " Total number of edges in data:   23628\n",
      "NOISE SUMMARY\n",
      "0, 0, [349, 0]\n",
      "AUC computation:\n",
      " Number of false negatives found: 0\n",
      " Total number of edges in data:   21198\n",
      "0.05, 0, [304, 45]\n",
      "AUC computation:\n",
      " Number of false negatives found: 10\n",
      " Total number of edges in data:   21495\n",
      "0.1, 0, [247, 102]\n",
      "AUC computation:\n",
      " Number of false negatives found: 12\n",
      " Total number of edges in data:   21877\n",
      "0.15, 0, [213, 136]\n",
      "AUC computation:\n",
      " Number of false negatives found: 18\n",
      " Total number of edges in data:   22416\n",
      "0.2, 0, [176, 173]\n",
      "AUC computation:\n",
      " Number of false negatives found: 30\n",
      " Total number of edges in data:   23036\n",
      "0.25, 0, [168, 181]\n",
      "AUC computation:\n",
      " Number of false negatives found: 56\n",
      " Total number of edges in data:   23301\n",
      "0.3, 0, [170, 179]\n",
      "AUC computation:\n",
      " Number of false negatives found: 42\n",
      " Total number of edges in data:   23628\n",
      "SUMMARY\n",
      "Sparsity, 0.0000,0.5329,0.7796,0.8385,0.8799,0.9348,0.9770,0.9999,1.0000,\n",
      "Fidelity, -0.0580,0.2407,0.2371,0.2096,0.1852,0.1409,0.0711,0.0012,0.0000,\n",
      "\n",
      "SPARSITY [0.0, 0.5329189297121371, 0.779638742990685, 0.8385308347322196, 0.8798823633303273, 0.934782346032752, 0.976979443883486, 0.9999451599694937, 1.0]\n",
      "FIDELITY [-0.05802616963755435, 0.24066655196911285, 0.23713442871085552, 0.20956765051215973, 0.1851925820026835, 0.14091998458250204, 0.071123649107351, 0.0012316638897346562, 0.0]\n",
      "NOISE VALS [0, 0.05, 0.1, 0.15, 0.2, 0.25, 0.3]\n",
      "ROC AUC [0.8826221288465952, 0.8239606439964249, 0.763044556035301, 0.7160305188283066, 0.6693578398116369, 0.6403550495986603, 0.6236030743847996]\n",
      "=========\n",
      "Average execution time (in seconds) 0.004063898649461632 std: 0.0001266930727612411\n"
     ]
    },
    {
     "name": "stdout",
     "output_type": "stream",
     "text": [
      "Evaluating seed 1\n",
      "CUDA 1\n",
      "loading model\n",
      "ckpt/Mutagenicity/Mutagenicity_base_h20_o20.pth.tar\n",
      "=> loading checkpoint 'ckpt/Mutagenicity/Mutagenicity_base_h20_o20.pth.tar'\n"
     ]
    },
    {
     "name": "stderr",
     "output_type": "stream",
     "text": [
      "  0%|          | 1/1393 [00:00<03:22,  6.88it/s]"
     ]
    },
    {
     "name": "stdout",
     "output_type": "stream",
     "text": [
      "Loaded model from ckpt/Mutagenicity\n",
      "input dim:  14 ; num classes:  2\n",
      "Method:  base\n",
      "Graph indices for label  0  : \n",
      "loading initial explainer ckpt from :  saved_models/rcexp_noldb_mutag_seed_1_sparsity_0.8_logdir_RIGHT_HYPERPARAMS/rcexp_noldb_mutagexplainer_Mutagenicity_ep_0_seed_1_sparsity_0.8_RIGHT_HYPERPARMS.pth.tar\n",
      "Using AUC Metric: original\n",
      "Using AUC Metric: original\n",
      "Using AUC Metric: original\n",
      "Using AUC Metric: original\n",
      "Using AUC Metric: original\n",
      "Using AUC Metric: original\n",
      "Using AUC Metric: original\n",
      "sum of params of loaded explainer: -50.361234065145254\n",
      "sum of params of loaded model: -45.76451079547405\n"
     ]
    },
    {
     "name": "stderr",
     "output_type": "stream",
     "text": [
      " 79%|███████▉  | 1101/1393 [02:43<00:43,  6.68it/s]IOPub message rate exceeded.\n",
      "The notebook server will temporarily stop sending output\n",
      "to the client in order to avoid crashing it.\n",
      "To change this limit, set the config variable\n",
      "`--NotebookApp.iopub_msg_rate_limit`.\n",
      "\n",
      "Current values:\n",
      "NotebookApp.iopub_msg_rate_limit=1000.0 (msgs/sec)\n",
      "NotebookApp.rate_limit_window=3.0 (secs)\n",
      "\n"
     ]
    }
   ],
   "source": [
    "get_all_results(results_dir)"
   ]
  },
  {
   "cell_type": "markdown",
   "metadata": {},
   "source": [
    "#### Plot fidelity and ROC AUC scores"
   ]
  },
  {
   "cell_type": "code",
   "execution_count": 10,
   "metadata": {},
   "outputs": [
    {
     "name": "stdout",
     "output_type": "stream",
     "text": [
      "rcexp\n",
      "Length of fidelity_0.8.json 2\n",
      "Length of noise_0.8.json 2\n",
      "Length of noise_1.0.json 2\n",
      "Length of fidelity_1.0.json 2\n",
      "\n",
      "pgexplainer\n",
      "Length of fidelity_0.8.json 2\n",
      "Length of noise_0.8.json 2\n",
      "Length of noise_1.0.json 2\n",
      "Length of fidelity_1.0.json 2\n",
      "\n",
      "rcexp_noldb\n",
      "Length of fidelity_0.8.json 2\n",
      "Length of noise_0.8.json 2\n",
      "Length of noise_1.0.json 2\n",
      "Length of fidelity_1.0.json 2\n",
      "\n"
     ]
    },
    {
     "data": {
      "image/png": "[encoded data removed]",
      "text/plain": [
       "<Figure size 432x288 with 2 Axes>"
      ]
     },
     "metadata": {
      "needs_background": "light"
     },
     "output_type": "display_data"
    },
    {
     "data": {
      "image/png": "[encoded data removed]",
      "text/plain": [
       "<Figure size 432x288 with 2 Axes>"
      ]
     },
     "metadata": {
      "needs_background": "light"
     },
     "output_type": "display_data"
    },
    {
     "ename": "NotImplementedError",
     "evalue": "TODO: wiggers: execution time toevoegen",
     "output_type": "error",
     "traceback": [
      "\u001b[0;31m---------------------------------------------------------------------------\u001b[0m",
      "\u001b[0;31mNotImplementedError\u001b[0m                       Traceback (most recent call last)",
      "\u001b[0;32m<ipython-input-10-ac5cc5702929>\u001b[0m in \u001b[0;36m<module>\u001b[0;34m\u001b[0m\n\u001b[1;32m     11\u001b[0m \u001b[0mplot_main\u001b[0m\u001b[0;34m(\u001b[0m\u001b[0mresults_dir\u001b[0m\u001b[0;34m,\u001b[0m \u001b[0;34m'fidelity'\u001b[0m\u001b[0;34m,\u001b[0m \u001b[0mthreshold\u001b[0m\u001b[0;34m=\u001b[0m\u001b[0;36m0\u001b[0m\u001b[0;34m)\u001b[0m\u001b[0;34m\u001b[0m\u001b[0;34m\u001b[0m\u001b[0m\n\u001b[1;32m     12\u001b[0m \u001b[0mplot_main\u001b[0m\u001b[0;34m(\u001b[0m\u001b[0mresults_dir\u001b[0m\u001b[0;34m,\u001b[0m \u001b[0;34m'noise'\u001b[0m\u001b[0;34m)\u001b[0m\u001b[0;34m\u001b[0m\u001b[0;34m\u001b[0m\u001b[0m\n\u001b[0;32m---> 13\u001b[0;31m \u001b[0;32mraise\u001b[0m \u001b[0mNotImplementedError\u001b[0m\u001b[0;34m(\u001b[0m\u001b[0;34m\"TODO: wiggers: execution time toevoegen\"\u001b[0m\u001b[0;34m)\u001b[0m\u001b[0;34m\u001b[0m\u001b[0;34m\u001b[0m\u001b[0m\n\u001b[0m",
      "\u001b[0;31mNotImplementedError\u001b[0m: TODO: wiggers: execution time toevoegen"
     ]
    }
   ],
   "source": [
    "from plot_graphs import plot_main\n",
    "\n",
    "for f in os.listdir(results_dir):\n",
    "    print(f)\n",
    "    for file in os.listdir(results_dir + \"/\" + f):\n",
    "        with open(results_dir + \"/\" + f + '/' + file, 'r') as g:\n",
    "            print(\"Length of\", file, len(json.load(g)))\n",
    "    \n",
    "    print()\n",
    "\n",
    "plot_main(results_dir, 'fidelity', threshold=0)\n",
    "plot_main(results_dir, 'noise')\n",
    "raise NotImplementedError(\"TODO: wiggers: execution time toevoegen\")\n",
    "raise NotImplementedError(\"TODO: thomas: pretrained model checken/toevoegen\")"
   ]
  },
  {
   "cell_type": "markdown",
   "metadata": {},
   "source": [
    "### MNISTSuperPixel"
   ]
  },
  {
   "cell_type": "code",
   "execution_count": null,
   "metadata": {},
   "outputs": [],
   "source": []
  }
 ],
 "metadata": {
  "kernelspec": {
   "display_name": "FACT",
   "language": "python",
   "name": "fact"
  },
  "language_info": {
   "codemirror_mode": {
    "name": "ipython",
    "version": 3
   },
   "file_extension": ".py",
   "mimetype": "text/x-python",
   "name": "python",
   "nbconvert_exporter": "python",
   "pygments_lexer": "ipython3",
   "version": "3.8.5"
  }
 },
 "nbformat": 4,
 "nbformat_minor": 5
}
