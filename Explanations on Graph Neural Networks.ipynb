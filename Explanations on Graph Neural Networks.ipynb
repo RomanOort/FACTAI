{
 "cells": [
  {
   "cell_type": "markdown",
   "metadata": {},
   "source": [
    "# Explanations on Graph Neural Networks\n",
    "\n",
    "## Initialization\n",
    "---\n",
    "Please confirm you selected kernel is PyTorch-1.8 and the selected specification is GPU."
   ]
  },
  {
   "cell_type": "code",
   "execution_count": 1,
   "metadata": {},
   "outputs": [
    {
     "name": "stdout",
     "output_type": "stream",
     "text": [
      "/home/thomas/anaconda3/envs/fact-ai/bin/python\n"
     ]
    }
   ],
   "source": [
    "import sys\n",
    "\n",
    "print(sys.executable)"
   ]
  },
  {
   "cell_type": "code",
   "execution_count": 2,
   "metadata": {},
   "outputs": [],
   "source": [
    "# !wget https://modelarts-cnnorth1-market-dataset.obs.cn-north-1.myhuaweicloud.com/example-apps/explain_graphs/packages.zip\n",
    "# !wget https://modelarts-cnnorth1-market-dataset.obs.cn-north-1.myhuaweicloud.com/example-apps/explain_graphs/ckpt.zip\n",
    "# !wget https://obs-aigallery-zc.obs.cn-north-4.myhuaweicloud.com/dataset/gallery/requirements.txt\n",
    "# !pip install -r requirements.txt\n",
    "# !unzip -o packages.zip\n",
    "# !unzip -o ckpt.zip"
   ]
  },
  {
   "cell_type": "code",
   "execution_count": 3,
   "metadata": {},
   "outputs": [],
   "source": [
    "import sys\n",
    "sys.path.append('./packages/gcn_interpretation/gnn-model-explainer')\n",
    "sys.path.append('./packages/ldbExtraction')\n",
    "from explain_graphs import *\n",
    "import dnn_invariant.extract_rules as extract"
   ]
  },
  {
   "cell_type": "code",
   "execution_count": 4,
   "metadata": {},
   "outputs": [],
   "source": [
    "# import dependencies\n",
    "import torch\n",
    "import numpy as np\n",
    "import random\n",
    "\n",
    "import networkx as nx\n",
    "import matplotlib.pyplot as plt"
   ]
  },
  {
   "cell_type": "code",
   "execution_count": 5,
   "metadata": {},
   "outputs": [],
   "source": [
    "# configure libraries\n",
    "torch.manual_seed(0)\n",
    "random.seed(0)\n",
    "np.random.seed(0)\n",
    "# torch.use_deterministic_algorithms(True)\n",
    "\n",
    "# configure GPU\n",
    "gpu_id = 0\n",
    "torch.cuda.set_device(gpu_id)\n",
    "torch.cuda.manual_seed(0)\n",
    "torch.cuda.manual_seed_all(0)\n",
    "device = 'cuda:0'"
   ]
  },
  {
   "cell_type": "code",
   "execution_count": 6,
   "metadata": {},
   "outputs": [],
   "source": [
    "# get arguments\n",
    "args = get_mutagenicity_args()\n",
    "args.num_epochs = 10\n",
    "\n",
    "# set constants\n",
    "train = True"
   ]
  },
  {
   "cell_type": "markdown",
   "metadata": {},
   "source": [
    "# Load model and dataset\n",
    "---"
   ]
  },
  {
   "cell_type": "code",
   "execution_count": 7,
   "metadata": {},
   "outputs": [],
   "source": [
    "# load ckpt containing model and dataset\n",
    "ckpt = torch.load(\"./ckpt/Mutagenicity/Mutagenicity_base_h20_o20.pth.tar\")\n",
    "cg_dict = ckpt[\"cg\"]\n",
    "\n",
    "# extract model from ckpt\n",
    "input_dim = cg_dict[\"feat\"].shape[2]\n",
    "num_classes = cg_dict[\"pred\"].shape[2]\n",
    "\n",
    "model = get_mutagenicity_model(input_dim, num_classes, device, args).cuda()\n",
    "model.load_state_dict(ckpt[\"model_state\"])\n",
    "\n",
    "# extract dataset from ckpt\n",
    "adj, feat, label, pred, num_nodes = get_dataset_from_ckpt(ckpt)\n",
    "\n",
    "size = 3035\n",
    "train_data = (adj[:size], feat[:size], label[:size], num_nodes[:size])\n",
    "val_data = (adj[size - 100:], feat[size - 100:], label[size - 100:], num_nodes[size - 100:])\n",
    "\n",
    "# get graphs to explain\n",
    "graph_indices = []\n",
    "preds = np.argmax(cg_dict['pred'][0,:,:], axis=1) \n",
    "for i, l in enumerate(preds):\n",
    "    # explain predictions for class 0 (mutagenic) for Mutagenicity\n",
    "    if l == 0:\n",
    "        graph_indices.append(i)"
   ]
  },
  {
   "cell_type": "markdown",
   "metadata": {},
   "source": [
    "## Extract Rules"
   ]
  },
  {
   "cell_type": "code",
   "execution_count": 8,
   "metadata": {},
   "outputs": [
    {
     "name": "stdout",
     "output_type": "stream",
     "text": [
      "rule label:  0\n",
      "rule: pos samples 1742\n",
      "rule: neg samples 1258\n",
      "Rules extracted:  {'boundary': [{'basis': array([ -0.7778877 ,   2.7435977 ,  17.096867  ,  -2.230471  ,\n",
      "         7.4752607 ,   3.057279  ,  23.858824  ,  17.076761  ,\n",
      "        20.68311   ,  -2.4843447 , -25.7729    ,  -0.6883296 ,\n",
      "        10.373083  , -10.964664  ,  -2.3192563 ,  -1.9224882 ,\n",
      "       -19.005634  , -21.42466   ,   3.007985  ,  -1.1455414 ,\n",
      "        -0.13652897], dtype=float32), 'label': 1}], 'label': 0}\n",
      "rule label:  1\n",
      "rule: pos samples 1258\n",
      "rule: neg samples 1742\n",
      "Rules extracted:  {'boundary': [{'basis': array([  0.7778877 ,  -2.7435977 , -17.096867  ,   2.230471  ,\n",
      "        -7.4752607 ,  -3.057279  , -23.858824  , -17.076761  ,\n",
      "       -20.68311   ,   2.4843447 ,  25.7729    ,   0.6883296 ,\n",
      "       -10.373083  ,  10.964664  ,   2.3192563 ,   1.9224882 ,\n",
      "        19.005634  ,  21.42466   ,  -3.007985  ,   1.1455414 ,\n",
      "         0.13652891], dtype=float32), 'label': 0}], 'label': 1}\n"
     ]
    }
   ],
   "source": [
    "# extract rules for each graph\n",
    "rule_dict = extract.extract_rules('Mutagenicity', train_data, val_data, args, model.state_dict(), graph_indices=None, pool_size=50)"
   ]
  },
  {
   "cell_type": "markdown",
   "metadata": {},
   "source": [
    "## Load explainer model"
   ]
  },
  {
   "cell_type": "code",
   "execution_count": 9,
   "metadata": {},
   "outputs": [
    {
     "data": {
      "text/plain": [
       "<All keys matched successfully>"
      ]
     },
     "execution_count": 9,
     "metadata": {},
     "output_type": "execute_result"
    }
   ],
   "source": [
    "explainer = ExplainModule(\n",
    "    model = model, \n",
    "    num_nodes = adj.shape[1],\n",
    "    emb_dims = model.embedding_dim * model.num_layers * 2, \n",
    "    device = device,\n",
    "    args = args\n",
    ")\n",
    "\n",
    "# Load explainer model from file\n",
    "state_dict = torch.load('./ckpt/Mutagenicity/RCExplainer/rcexplainer.pth.tar')\n",
    "\n",
    "exp_state_dict = explainer.state_dict()\n",
    "for name, param in state_dict.items():\n",
    "    if name in exp_state_dict and not (\"model\" in name):\n",
    "        exp_state_dict[name].copy_(param)\n",
    "explainer.load_state_dict(state_dict)"
   ]
  },
  {
   "cell_type": "markdown",
   "metadata": {},
   "source": [
    "## Train explainer"
   ]
  },
  {
   "cell_type": "code",
   "execution_count": 10,
   "metadata": {},
   "outputs": [
    {
     "name": "stderr",
     "output_type": "stream",
     "text": [
      "./packages/gcn_interpretation/gnn-model-explainer/explain_graphs.py:79: UserWarning: To copy construct from a tensor, it is recommended to use sourceTensor.clone().detach() or sourceTensor.clone().detach().requires_grad_(True), rather than torch.tensor(sourceTensor).\n",
      "  label = torch.tensor(sub_label, dtype=torch.long).cuda()\n",
      "/home/thomas/anaconda3/envs/fact-ai/lib/python3.7/site-packages/torch/nn/functional.py:1709: UserWarning: nn.functional.sigmoid is deprecated. Use torch.sigmoid instead.\n",
      "  warnings.warn(\"nn.functional.sigmoid is deprecated. Use torch.sigmoid instead.\")\n"
     ]
    },
    {
     "name": "stdout",
     "output_type": "stream",
     "text": [
      "Epoch: 0 \t Loss: 2063.329833984375\n",
      "Epoch: 1 \t Loss: 2363.873046875\n",
      "Epoch: 2 \t Loss: 2238.60546875\n",
      "Epoch: 3 \t Loss: 1990.7418212890625\n",
      "Epoch: 4 \t Loss: 2248.955322265625\n",
      "Epoch: 5 \t Loss: 2156.1708984375\n",
      "Epoch: 6 \t Loss: 1958.245849609375\n",
      "Epoch: 7 \t Loss: 2148.54345703125\n",
      "Epoch: 8 \t Loss: 2259.973388671875\n",
      "Epoch: 9 \t Loss: 2086.25244140625\n",
      "Sparsity, 0.0000,0.5103,0.7650,0.8244,0.8696,0.9233,0.9701,0.9999,1.0000,\n",
      "Fidelity, -0.0626,0.3292,0.7398,0.7575,0.7331,0.5891,0.2665,0.0005,0.0000,\n",
      "\n"
     ]
    }
   ],
   "source": [
    "# train\n",
    "if train:\n",
    "    explainer = train_explainer(explainer, model, rule_dict, adj, feat, label, pred, num_nodes, args, graph_indices)"
   ]
  },
  {
   "cell_type": "markdown",
   "metadata": {},
   "source": [
    "## Evaluate explainer \n",
    "### Performance evaluation"
   ]
  },
  {
   "cell_type": "code",
   "execution_count": 12,
   "metadata": {},
   "outputs": [
    {
     "name": "stdout",
     "output_type": "stream",
     "text": [
      "Loss: 1922.1318359375\n",
      "Sparsity, 0.0000,0.5239,0.7786,0.8409,0.8867,0.9399,0.9809,1.0000,1.0000,\n",
      "Fidelity, -0.0626,0.3625,0.7184,0.7178,0.6750,0.4982,0.2047,0.0002,0.0000,\n",
      "\n"
     ]
    }
   ],
   "source": [
    "# explain and model\n",
    "explanations = evaluate_explainer(explainer, model, rule_dict, adj, feat, label, pred, num_nodes, args, graph_indices)"
   ]
  },
  {
   "cell_type": "markdown",
   "metadata": {},
   "source": [
    "### Visualize explanation on single graph"
   ]
  },
  {
   "cell_type": "code",
   "execution_count": 13,
   "metadata": {},
   "outputs": [
    {
     "data": {
      "image/png": "[encoded data removed]",
      "text/plain": [
       "<Figure size 432x288 with 1 Axes>"
      ]
     },
     "metadata": {},
     "output_type": "display_data"
    }
   ],
   "source": [
    "visualization_index = 2\n",
    "feat_tmp = feat[visualization_index]\n",
    "adj_tmp = adj[visualization_index]\n",
    "explanation = explanations[visualization_index]\n",
    "\n",
    "nz_idx, nz = np.nonzero(feat_tmp.numpy())\n",
    "node_labels = {idx: nz[idx] for idx in nz_idx}\n",
    "\n",
    "node_lut = {\n",
    "    0: 'C',\n",
    "    1: 'O',\n",
    "    2: 'Cl', \n",
    "    3: 'H',\n",
    "    4: 'N',\n",
    "    5: 'F',\n",
    "    6: 'Br', \n",
    "    7: 'S', \n",
    "    8: 'P', \n",
    "    9: 'I',\n",
    "    10: 'Na', \n",
    "    11: 'K', \n",
    "    12: 'Li', \n",
    "    13: 'Ca'\n",
    "}\n",
    "\n",
    "node_colors = [node_labels[idx] for idx in nz_idx]\n",
    "\n",
    "G = nx.Graph()\n",
    "\n",
    "for idx in nz_idx:\n",
    "    G.add_node(idx, atom=node_lut[node_labels[idx]], color=node_colors[idx])\n",
    "\n",
    "edge_labels = {}\n",
    "\n",
    "x, y = np.nonzero(adj_tmp.numpy())\n",
    "for i in range(len(x)):\n",
    "    edge_labels[(x[i], y[i])] = explanation[x[i], y[i]]\n",
    "\n",
    "for a, b in edge_labels.keys():\n",
    "    color = \"r\" if edge_labels[(a,b)] > 0.1 else \"black\"\n",
    "    G.add_edge(a, b, color=color, wdith='1.0', weight=\"{:1.2f}\".format(edge_labels[(a, b)]))\n",
    "\n",
    "pos = nx.spring_layout(G, weight=1.0)\n",
    "plt.figure()\n",
    "node_labels = nx.get_node_attributes(G, \"atom\")\n",
    "\n",
    "edges = G.edges()\n",
    "edge_colors = [G[u][v]['color'] for u, v in edges]\n",
    "\n",
    "nodes = G.nodes()\n",
    "node_colors = nx.get_node_attributes(G, 'color')\n",
    "node_colors = [node_colors[i] for i in node_colors.keys()] \n",
    "nx.draw(G, pos, labels=node_labels, node_color=node_colors, edge_color=edge_colors)\n",
    "edge_labels = nx.get_edge_attributes(G, 'weight')\n",
    "nx.draw_networkx_edge_labels(G, pos, edge_labels=edge_labels)\n",
    "# nx.draw_networkx_edge_labels(G, pos)\n",
    "plt.title(\"Explanations on sample \" + str(visualization_index) + \" of Mutagenicity dataset\")\n",
    "plt.show()\n"
   ]
  },
  {
   "cell_type": "code",
   "execution_count": null,
   "metadata": {},
   "outputs": [],
   "source": []
  },
  {
   "cell_type": "code",
   "execution_count": null,
   "metadata": {},
   "outputs": [],
   "source": []
  }
 ],
 "metadata": {
  "kernelspec": {
   "display_name": "Python 3 (ipykernel)",
   "language": "python",
   "name": "python3"
  },
  "language_info": {
   "codemirror_mode": {
    "name": "ipython",
    "version": 3
   },
   "file_extension": ".py",
   "mimetype": "text/x-python",
   "name": "python",
   "nbconvert_exporter": "python",
   "pygments_lexer": "ipython3",
   "version": "3.7.11"
  }
 },
 "nbformat": 4,
 "nbformat_minor": 4
}
